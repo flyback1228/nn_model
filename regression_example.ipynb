{
 "cells": [
  {
   "cell_type": "code",
   "execution_count": 26,
   "metadata": {
    "collapsed": true
   },
   "outputs": [],
   "source": [
    "import matplotlib.pyplot as plt\n",
    "import numpy as np\n",
    "import tensorflow as tf"
   ]
  },
  {
   "cell_type": "code",
   "execution_count": 27,
   "metadata": {
    "collapsed": false
   },
   "outputs": [
    {
     "name": "stdout",
     "output_type": "stream",
     "text": [
      "2.10.0\n"
     ]
    }
   ],
   "source": [
    "print(tf.__version__)"
   ]
  },
  {
   "cell_type": "code",
   "execution_count": 29,
   "metadata": {
    "collapsed": false
   },
   "outputs": [],
   "source": [
    "np.random.seed(101)\n",
    "tf.compat.v1.set_random_seed(101)"
   ]
  },
  {
   "cell_type": "code",
   "execution_count": 31,
   "metadata": {
    "collapsed": false
   },
   "outputs": [],
   "source": [
    "# Generating random linear data\n",
    "# There will be 50 data points ranging from 0 to 50\n",
    "x = np.linspace(0, 50, 50)\n",
    "y = np.linspace(0, 50, 50)\n",
    "\n",
    "# Adding noise to the random linear data\n",
    "x += np.random.uniform(-4, 4, 50)\n",
    "y += np.random.uniform(-4, 4, 50)\n",
    "\n",
    "n = len(x) # Number of data points\n",
    "\n"
   ]
  },
  {
   "cell_type": "code",
   "execution_count": 32,
   "metadata": {
    "collapsed": false
   },
   "outputs": [
    {
     "data": {
      "image/png": "[encoded data removed]",
      "text/plain": [
       "<Figure size 640x480 with 1 Axes>"
      ]
     },
     "metadata": {},
     "output_type": "display_data"
    }
   ],
   "source": [
    "# Plot of Training Data\n",
    "plt.scatter(x, y)\n",
    "plt.xlabel('x')\n",
    "plt.ylabel('y')\n",
    "plt.title(\"Training Data\")\n",
    "plt.show()\n"
   ]
  },
  {
   "cell_type": "code",
   "execution_count": 34,
   "metadata": {
    "collapsed": false
   },
   "outputs": [],
   "source": [
    "tf.compat.v1.disable_eager_execution()\n",
    "X = tf.compat.v1.placeholder(\"float\")\n",
    "Y = tf.compat.v1.placeholder(\"float\")\n",
    "\n"
   ]
  },
  {
   "cell_type": "code",
   "execution_count": 37,
   "metadata": {
    "collapsed": false
   },
   "outputs": [],
   "source": [
    "W = tf.Variable(np.random.randn(), name = \"W\")\n",
    "b = tf.Variable(np.random.randn(), name = \"b\")\n"
   ]
  },
  {
   "cell_type": "code",
   "execution_count": 38,
   "metadata": {
    "collapsed": false
   },
   "outputs": [],
   "source": [
    "learning_rate = 0.01\n",
    "training_epochs = 1000"
   ]
  },
  {
   "cell_type": "code",
   "execution_count": 40,
   "metadata": {
    "collapsed": false
   },
   "outputs": [],
   "source": [
    "# Hypothesis\n",
    "y_pred = tf.add(tf.multiply(X, W), b)\n",
    "\n",
    "# Mean Squared Error Cost Function\n",
    "cost = tf.reduce_sum(tf.pow(y_pred-Y, 2)) / (2 * n)\n",
    "\n",
    "# Gradient Descent Optimizer\n",
    "optimizer = tf.compat.v1.train.GradientDescentOptimizer(learning_rate).minimize(cost)\n",
    "\n",
    "# Global Variables Initializer\n",
    "init = tf.compat.v1.global_variables_initializer()\n",
    "\n"
   ]
  },
  {
   "cell_type": "code",
   "execution_count": 44,
   "metadata": {
    "collapsed": false
   },
   "outputs": [
    {
     "name": "stderr",
     "output_type": "stream",
     "text": [
      "2022-10-07 18:39:50.286843: I tensorflow/stream_executor/cuda/cuda_gpu_executor.cc:980] successful NUMA node read from SysFS had negative value (-1), but there must be at least one NUMA node, so returning NUMA node zero\n",
      "2022-10-07 18:39:50.288566: I tensorflow/stream_executor/cuda/cuda_gpu_executor.cc:980] successful NUMA node read from SysFS had negative value (-1), but there must be at least one NUMA node, so returning NUMA node zero\n",
      "2022-10-07 18:39:50.289319: I tensorflow/stream_executor/cuda/cuda_gpu_executor.cc:980] successful NUMA node read from SysFS had negative value (-1), but there must be at least one NUMA node, so returning NUMA node zero\n",
      "2022-10-07 18:39:50.292405: I tensorflow/stream_executor/cuda/cuda_gpu_executor.cc:980] successful NUMA node read from SysFS had negative value (-1), but there must be at least one NUMA node, so returning NUMA node zero\n",
      "2022-10-07 18:39:50.293887: I tensorflow/stream_executor/cuda/cuda_gpu_executor.cc:980] successful NUMA node read from SysFS had negative value (-1), but there must be at least one NUMA node, so returning NUMA node zero\n",
      "2022-10-07 18:39:50.294646: I tensorflow/core/common_runtime/gpu/gpu_device.cc:1616] Created device /job:localhost/replica:0/task:0/device:GPU:0 with 9413 MB memory:  -> device: 0, name: NVIDIA GeForce RTX 2060, pci bus id: 0000:01:00.0, compute capability: 7.5\n",
      "2022-10-07 18:39:50.304727: I tensorflow/compiler/mlir/mlir_graph_optimization_pass.cc:354] MLIR V1 optimization pass is not enabled\n"
     ]
    },
    {
     "name": "stdout",
     "output_type": "stream",
     "text": [
      "Epoch 50 : cost = 6.987109 W = 0.9619729 b = 0.26440322\n",
      "Epoch 100 : cost = 6.912347 W = 0.95846134 b = 0.44170102\n",
      "Epoch 150 : cost = 6.854391 W = 0.95531446 b = 0.6005898\n",
      "Epoch 200 : cost = 6.809722 W = 0.9524942 b = 0.742983\n",
      "Epoch 250 : cost = 6.775526 W = 0.9499669 b = 0.8705906\n",
      "Epoch 300 : cost = 6.7495675 W = 0.94770193 b = 0.9849491\n",
      "Epoch 350 : cost = 6.730068 W = 0.9456722 b = 1.0874336\n",
      "Epoch 400 : cost = 6.7156186 W = 0.94385314 b = 1.1792758\n",
      "Epoch 450 : cost = 6.7050953 W = 0.9422231 b = 1.2615815\n",
      "Epoch 500 : cost = 6.6976156 W = 0.9407622 b = 1.3353394\n",
      "Epoch 550 : cost = 6.6924777 W = 0.939453 b = 1.4014401\n",
      "Epoch 600 : cost = 6.6891317 W = 0.9382798 b = 1.4606769\n",
      "Epoch 650 : cost = 6.6871424 W = 0.9372283 b = 1.5137675\n",
      "Epoch 700 : cost = 6.6861715 W = 0.9362859 b = 1.5613488\n",
      "Epoch 750 : cost = 6.685952 W = 0.93544143 b = 1.6039885\n",
      "Epoch 800 : cost = 6.6862803 W = 0.9346846 b = 1.6421989\n",
      "Epoch 850 : cost = 6.686994 W = 0.9340064 b = 1.676443\n",
      "Epoch 900 : cost = 6.6879706 W = 0.9333987 b = 1.7071253\n",
      "Epoch 950 : cost = 6.6891184 W = 0.9328542 b = 1.7346199\n",
      "Epoch 1000 : cost = 6.690362 W = 0.93236613 b = 1.7592615\n"
     ]
    }
   ],
   "source": [
    "# Starting the Tensorflow Session\n",
    "with tf.compat.v1.Session() as sess:\n",
    "\n",
    "\t# Initializing the Variables\n",
    "\tsess.run(init)\n",
    "\n",
    "\t# Iterating through all the epochs\n",
    "\tfor epoch in range(training_epochs):\n",
    "\n",
    "\t\t# Feeding each data point into the optimizer using Feed Dictionary\n",
    "\t\tfor (_x, _y) in zip(x, y):\n",
    "\t\t\tsess.run(optimizer, feed_dict = {X : _x, Y : _y})\n",
    "\n",
    "\t\t# Displaying the result after every 50 epochs\n",
    "\t\tif (epoch + 1) % 50 == 0:\n",
    "\t\t\t# Calculating the cost a every epoch\n",
    "\t\t\tc = sess.run(cost, feed_dict = {X : x, Y : y})\n",
    "\t\t\tprint(\"Epoch\", (epoch + 1), \": cost =\", c, \"W =\", sess.run(W), \"b =\", sess.run(b))\n",
    "\n",
    "\t# Storing necessary values to be used outside the Session\n",
    "\ttraining_cost = sess.run(cost, feed_dict ={X: x, Y: y})\n",
    "\tweight = sess.run(W)\n",
    "\tbias = sess.run(b)\n",
    "\n"
   ]
  }
 ],
 "metadata": {
  "kernelspec": {
   "display_name": "Python 3.8.10 64-bit",
   "language": "python",
   "name": "python3"
  },
  "language_info": {
   "codemirror_mode": {
    "name": "ipython",
    "version": 2
   },
   "file_extension": ".py",
   "mimetype": "text/x-python",
   "name": "python",
   "nbconvert_exporter": "python",
   "pygments_lexer": "ipython2",
   "version": "3.8.10"
  },
  "vscode": {
   "interpreter": {
    "hash": "916dbcbb3f70747c44a77c7bcd40155683ae19c65e1c03b4aa3499c5328201f1"
   }
  }
 },
 "nbformat": 4,
 "nbformat_minor": 0
}
