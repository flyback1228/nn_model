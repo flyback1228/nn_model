{
 "cells": [
  {
   "cell_type": "code",
   "execution_count": 22,
   "metadata": {},
   "outputs": [
    {
     "name": "stdout",
     "output_type": "stream",
     "text": [
      "initializing object\n",
      "[3.14159, -3.14159, 3.14159, -38.6039, -105.347, 165.133, -314.159, 62.8319]\n",
      "[3.14159, -3.14159, 3.14159, -38.6039, -105.347, 165.133, -314.159, 62.8319]\n",
      "initializing object\n",
      "evaluate function call for casadi function\n",
      "16.6 µs ± 496 ns per loop (mean ± std. dev. of 7 runs, 100,000 loops each)\n",
      "evaluate function call for casadi call function with forward\n",
      "307 µs ± 882 ns per loop (mean ± std. dev. of 7 runs, 1,000 loops each)\n",
      "7.84 µs ± 49.1 ns per loop (mean ± std. dev. of 7 runs, 100,000 loops each)\n",
      "573 µs ± 2.16 µs per loop (mean ± std. dev. of 7 runs, 1,000 loops each)\n"
     ]
    }
   ],
   "source": [
    "from disk_models import *\n",
    "\n",
    "x0 = np.pi*np.array([1, 1, -1.5, 1, -1, 1, 0, 0]).reshape(-1, 1)\n",
    "u0 = np.pi*np.array([-1, 0.2]).reshape(-1, 1)\n",
    "dynamics_model = DynamicsModel('model')    \n",
    "\n",
    "print(dynamics_model(x0, u0))\n",
    "print(model(x0, u0))\n",
    "\n",
    "dynamics_model_with_forward = DynamicsModelWithForward('model_with_forward')\n",
    "x = ca.MX.sym(\"x\",8,1)\n",
    "u = ca.MX.sym(\"x\",2,1)\n",
    "    \n",
    "#f = ca.Function('f',[x,u],[model(x,u)])\n",
    "J0 = ca.Function('J0',[x,u],[ca.jacobian(model(x,u),x)])\n",
    "print('evaluate function call for casadi function')\n",
    "%timeit J0(x0,u0)\n",
    "\n",
    "J1 = ca.Function('J1',[x,u],[ca.jacobian(dynamics_model_with_forward(x,u),x)])\n",
    "print('evaluate function call for casadi call function with forward')\n",
    "%timeit J1(x0,u0)\n",
    "\n",
    "x0 = ca.pi*ca.DM([[1, 1, -1.5, 1, -1, 1, 0, 0],[1, 1, -1.5, 1, -1, 1, 0, 0]]).T\n",
    "u0 = ca.pi*ca.DM([[-1, 0.2],[-5, 0.3]]).T\n",
    "%timeit J0(x0,u0)\n",
    "%timeit J1(x0,u0)"
   ]
  },
  {
   "cell_type": "code",
   "execution_count": 21,
   "metadata": {},
   "outputs": [
    {
     "name": "stdout",
     "output_type": "stream",
     "text": [
      "initializing object\n",
      "Error in Opti::solve [OptiNode] at .../casadi/core/optistack.cpp:159:\n",
      ".../casadi/core/function_internal.cpp:145: Error calling IpoptInterface::init for 'solver':\n",
      "Error in Function::factory for 'nlp' [MXFunction] at .../casadi/core/function.cpp:1634:\n",
      "Failed to create nlp_grad:[x, p, lam:f, lam:g]->[f, g, grad:gamma:x, grad:gamma:p] with {\"gamma\": [f, g]}:\n",
      ".../casadi/core/factory.hpp:367: Gradient generation failed:\n",
      "Error in MX::gradient at .../casadi/core/generic_matrix.hpp:1203:\n",
      "Error in MX::jtimes at .../casadi/core/generic_matrix.hpp:1191:\n",
      "Error in MX::reverse at .../casadi/core/mx.cpp:1741:\n",
      "Error in MXFunction::ad_reverse at .../casadi/core/mx_function.cpp:1042:\n",
      "Error in MX::ad_reverse for node of type N6casadi4CallE at .../casadi/core/mx.cpp:2044:\n",
      "Error in Call::ad_reverse for 'm' [CallbackInternal] at .../casadi/core/casadi_call.cpp:147:\n",
      "Error in Function::jacobian for 'wrap_m' [MXFunction] at .../casadi/core/function.cpp:824:\n",
      "Error in XFunction::get_jacobian for 'wrap_m' [MXFunction] at .../casadi/core/x_function.hpp:891:\n",
      "Error in XFunction::jac for 'flattened_jac_wrap_m' [MXFunction] at .../casadi/core/x_function.hpp:719:\n",
      "Error in MXFunction::ad_forward at .../casadi/core/mx_function.cpp:831:\n",
      "Error in MX::ad_forward for node of type N6casadi4CallE at .../casadi/core/mx.cpp:2035:\n",
      "Error in Call::ad_forward for 'm' [CallbackInternal] at .../casadi/core/casadi_call.cpp:123:\n",
      "Error in Function::forward for 'm' [CallbackInternal] at .../casadi/core/function.cpp:1017:\n",
      ".../casadi/core/function.cpp:1613: Assertion \"size1_in(i)==nrow && size2_in(i)==ncol\" failed:\n",
      "Incorrect shape for fwd10_m:(i0[8],i1[2],i2[8],i3[8x8],i4[2x8])->(o0[8x8]) CallbackInternal input 3 \"i3\". Expected 8-by-10 but got 8-by-8\n"
     ]
    }
   ],
   "source": [
    "horizon = 20\n",
    "nx = 8\n",
    "nu = 2\n",
    "dt = 0.05\n",
    "x0 = np.pi*np.array([1, 1, -1.5, 1, -1, 1, 0, 0]).reshape(-1,1)\n",
    "\n",
    "option = {}\n",
    "option['max_iter']=10000\n",
    "\n",
    "#option['print_level']=0\n",
    "\n",
    "opti = ca.Opti()\n",
    "x = opti.variable(nx,horizon+1)\n",
    "u = opti.variable(nu,horizon)\n",
    "\n",
    "phi_1= x[0,:]\n",
    "phi_2= x[1,:]\n",
    "phi_3= x[2,:]\n",
    "dphi_1= x[3,:]\n",
    "dphi_2= x[4,:]\n",
    "dphi_3= x[5,:]\n",
    "phi_1_m= x[6,:]\n",
    "phi_2_m= x[7,:]\n",
    "\n",
    "phi_m_1_set = u[0,:]\n",
    "phi_m_2_set = u[1,:]\n",
    "\n",
    "model=DynamicsModelWithForward('m')    \n",
    "\n",
    "k1 = model(x[:,0:-1],u)\n",
    "k2 = model(x[:,0:-1]+dt/2*k1,u)\n",
    "k3 = model(x[:,0:-1]+dt/2*k2,u)\n",
    "k4 = model(x[:,0:-1]+dt*k3,u)\n",
    "\n",
    "opti.minimize(ca.dot(phi_1,phi_1)+ca.dot(phi_2,phi_2)+ca.dot(phi_3,phi_3)\n",
    "              +0.001*ca.dot(phi_m_1_set,phi_m_1_set)+0.1*ca.dot(phi_m_2_set,phi_m_2_set)\n",
    "              +0.001*ca.dot(phi_1_m,phi_1_m)+0.1*ca.dot(phi_2_m,phi_2_m))\n",
    "\n",
    "opti.subject_to(x[:,1:] == x[:,0:-1]+dt/6*(k1+2*k2+2*k3+k4))\n",
    "\n",
    "opti.subject_to(x[:,0]==x0)\n",
    "\n",
    "opti.subject_to(opti.bounded(-2*ca.pi,phi_1,2*ca.pi))\n",
    "opti.subject_to(opti.bounded(-2*ca.pi,phi_2,2*ca.pi))\n",
    "opti.subject_to(opti.bounded(-2*ca.pi,phi_3,2*ca.pi))\n",
    "\n",
    "opti.subject_to(opti.bounded(-2*ca.pi,phi_1_m,2*ca.pi))\n",
    "opti.subject_to(opti.bounded(-2*ca.pi,phi_1_m,2*ca.pi))\n",
    "\n",
    "\n",
    "opti.subject_to(opti.bounded(-2*ca.pi,phi_m_1_set,2*ca.pi))\n",
    "opti.subject_to(opti.bounded(-2*ca.pi,phi_m_2_set,2*ca.pi))\n",
    "\n",
    "\n",
    "\n",
    "opti.solver(\"ipopt\",{},option)\n",
    "\n",
    "try:\n",
    "    sol = opti.solve()\n",
    "\n",
    "except Exception as e:\n",
    "    print(e)"
   ]
  },
  {
   "cell_type": "code",
   "execution_count": 26,
   "metadata": {},
   "outputs": [
    {
     "name": "stdout",
     "output_type": "stream",
     "text": [
      "tf.Tensor(\n",
      "[[2.]\n",
      " [4.]], shape=(2, 1), dtype=float32)\n"
     ]
    },
    {
     "ename": "TypeError",
     "evalue": "'tensorflow.python.framework.ops.EagerTensor' object is not callable",
     "output_type": "error",
     "traceback": [
      "\u001b[0;31m---------------------------------------------------------------------------\u001b[0m",
      "\u001b[0;31mTypeError\u001b[0m                                 Traceback (most recent call last)",
      "Cell \u001b[0;32mIn [26], line 11\u001b[0m\n\u001b[1;32m      9\u001b[0m z\u001b[39m=\u001b[39mw\u001b[39m+\u001b[39mv\n\u001b[1;32m     10\u001b[0m \u001b[39mprint\u001b[39m(z)\n\u001b[0;32m---> 11\u001b[0m z(tf\u001b[39m.\u001b[39;49mconstant([[\u001b[39m3.\u001b[39;49m], [\u001b[39m4.\u001b[39;49m]]),tf\u001b[39m.\u001b[39;49mconstant([[\u001b[39m3.\u001b[39;49m], [\u001b[39m4.\u001b[39;49m]]))\n",
      "\u001b[0;31mTypeError\u001b[0m: 'tensorflow.python.framework.ops.EagerTensor' object is not callable"
     ]
    }
   ],
   "source": [
    "import tensorflow as tf\n",
    "@tf.function\n",
    "def add(a,b):\n",
    "    return a+b\n",
    "\n",
    "\n",
    "w = tf.Variable([[1.], [2.]])\n",
    "v = tf.Variable([[1.], [2.]])\n",
    "z=w+v\n",
    "print(z)\n",
    "\n",
    "z(tf.constant([[3.], [4.]]),tf.constant([[3.], [4.]]))\n"
   ]
  }
 ],
 "metadata": {
  "kernelspec": {
   "display_name": "Python 3.8.10 64-bit",
   "language": "python",
   "name": "python3"
  },
  "language_info": {
   "codemirror_mode": {
    "name": "ipython",
    "version": 3
   },
   "file_extension": ".py",
   "mimetype": "text/x-python",
   "name": "python",
   "nbconvert_exporter": "python",
   "pygments_lexer": "ipython3",
   "version": "3.8.10"
  },
  "orig_nbformat": 4,
  "vscode": {
   "interpreter": {
    "hash": "916dbcbb3f70747c44a77c7bcd40155683ae19c65e1c03b4aa3499c5328201f1"
   }
  }
 },
 "nbformat": 4,
 "nbformat_minor": 2
}
