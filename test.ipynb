{
 "cells": [
  {
   "cell_type": "code",
   "execution_count": 1,
   "metadata": {
    "collapsed": false
   },
   "outputs": [
    {
     "name": "stdout",
     "output_type": "stream",
     "text": [
      "callback vjp evaluate:\n",
      "[3, 16, 12, 7.0061, 4]\n",
      "casadi original evaluate:\n",
      "[3, 16, 12, 7.0061, 4]\n",
      "callback vjp jacobian:\n",
      "\n",
      "[[3, 0, 0], \n",
      " [0, 0, 5], \n",
      " [0, 16, -2], \n",
      " [1.62091, 0, 0.841471], \n",
      " [0, 2, 0]]\n",
      "casasi jacobian:\n",
      "\n",
      "[[3, 00, 00], \n",
      " [00, 00, 5], \n",
      " [00, 16, -2], \n",
      " [1.62091, 00, 0.841471], \n",
      " [00, 2, 00]]\n",
      "callback vjp hessian:\n",
      "\n",
      "[[0, 0, 0], \n",
      " [0, 0, 0], \n",
      " [0, 0, 0], \n",
      " [-2.52441, 0, 0.540302], \n",
      " [0, 0, 0], \n",
      " [0, 0, 0], \n",
      " [0, 0, 0], \n",
      " [0, 8, 0], \n",
      " [0, 0, 0], \n",
      " [0, 0, 0], \n",
      " [0, 0, 0], \n",
      " [0, 0, 0], \n",
      " [0, 0, 0], \n",
      " [0.540302, 0, 0], \n",
      " [0, 0, 0]]\n",
      "casasi hessian:\n",
      "sparse: 15-by-3, 4 nnz\n",
      " (3, 0) -> -2.52441\n",
      " (13, 0) -> 0.540302\n",
      " (7, 1) -> 8\n",
      " (3, 2) -> 0.540302\n"
     ]
    }
   ],
   "source": [
    "import jax.numpy as jnp\n",
    "import casadi as ca\n",
    "import numpy as np\n",
    "import jax\n",
    "from jax_casadi_callback import JaxCasadiCallback\n",
    "\n",
    "f_test = lambda x,y: jnp.asarray([x[0]*y[0], 5*x[2]+y[1], 4*x[1]**2+y[1]*y[2] - 2*x[2], jnp.exp(y[3]) + x[2] * jnp.sin(x[0]),x[1]*y[2]])\n",
    "    \n",
    "opts={'in_dim':[[3,1],[4,1]],'out_dim':[[5,1]],'n_in':2,'n_out':1}\n",
    "f_callback = JaxCasadiCallback('f1',f_test,opts)\n",
    "DM_x = ca.DM([1,2,3.0])\n",
    "DM_y = ca.DM([3,1,2,1.5])\n",
    "\n",
    "jnp_x = jnp.asarray([1.0,2,3],dtype=jnp.float32)\n",
    "jnp_y = jnp.asarray([3.0,1,2,1.5],dtype=jnp.float32)\n",
    "\n",
    "v_callback = f_callback(DM_x,DM_y)\n",
    "print('callback vjp evaluate:')\n",
    "print(v_callback)\n",
    "\n",
    "x = ca.MX.sym(\"x\",3,1)\n",
    "y = ca.MX.sym(\"x\",4,1)\n",
    "z = ca.vertcat(x[0]*y[0], 5*x[2]+y[1], 4*x[1]**2+y[1]*y[2] - 2*x[2], ca.exp(y[3]) + x[2] * ca.sin(x[0]),x[1]*y[2])\n",
    "f_casadi = ca.Function('F', [x,y], [z])\n",
    "v_casadi = f_casadi(DM_x,DM_y)\n",
    "print('casadi original evaluate:')\n",
    "print(v_casadi)\n",
    "\n",
    "\n",
    "J_callback = ca.Function('J1', [x,y], [ca.jacobian(f_callback(x,y), x)])\n",
    "v_jac_callback = J_callback(DM_x,DM_y)\n",
    "print('callback vjp jacobian:')\n",
    "print(v_jac_callback)\n",
    "J_casadi = ca.Function('j_casadi', [x,y], [ca.jacobian(f_casadi(x,y), x)])\n",
    "jac_casadi = J_casadi(DM_x,DM_y)\n",
    "print('casasi jacobian:')\n",
    "print(jac_casadi)\n",
    "\n",
    "H_callback = ca.Function('H1', [x,y], [ca.jacobian(J_callback(x,y), x)])\n",
    "v_hes_callback = H_callback(DM_x,DM_y)\n",
    "print('callback vjp hessian:')\n",
    "print(v_hes_callback)\n",
    "H_casadi = ca.Function('h_casadi', [x,y], [ca.jacobian(J_casadi(x,y), x)])\n",
    "hes_casadi = H_casadi(DM_x,DM_y)\n",
    "print('casasi hessian:')\n",
    "print(hes_casadi)\n"
   ]
  },
  {
   "cell_type": "code",
   "execution_count": 2,
   "metadata": {},
   "outputs": [
    {
     "name": "stdout",
     "output_type": "stream",
     "text": [
      "jax callback evaluate: \n",
      "535 µs ± 4.63 µs per loop (mean ± std. dev. of 7 runs, 1,000 loops each)\n",
      "casadi callback evaluate: \n",
      "4.58 µs ± 39.8 ns per loop (mean ± std. dev. of 7 runs, 100,000 loops each)\n",
      "jax jacobian evaluate: \n",
      "2.01 ms ± 37 µs per loop (mean ± std. dev. of 7 runs, 100 loops each)\n",
      "casadi jacobian evaluate: \n",
      "4.3 µs ± 18.5 ns per loop (mean ± std. dev. of 7 runs, 100,000 loops each)\n",
      "jax hessian evaluate: \n",
      "8.35 ms ± 59.2 µs per loop (mean ± std. dev. of 7 runs, 100 loops each)\n",
      "casadi hessian evaluate: \n",
      "4.59 µs ± 16.8 ns per loop (mean ± std. dev. of 7 runs, 100,000 loops each)\n"
     ]
    }
   ],
   "source": [
    "print('jax callback evaluate: ')\n",
    "%timeit f_callback(DM_x,DM_y)\n",
    "print('casadi callback evaluate: ')\n",
    "%timeit f_casadi(DM_x,DM_y)\n",
    "\n",
    "print('jax jacobian evaluate: ')\n",
    "%timeit J_callback(DM_x,DM_y)\n",
    "print('casadi jacobian evaluate: ')\n",
    "%timeit J_casadi(DM_x,DM_y)\n",
    "\n",
    "print('jax hessian evaluate: ')\n",
    "%timeit H_callback(DM_x,DM_y)\n",
    "\n",
    "print('casadi hessian evaluate: ')\n",
    "%timeit H_casadi(DM_x,DM_y)\n"
   ]
  },
  {
   "cell_type": "code",
   "execution_count": 14,
   "metadata": {},
   "outputs": [
    {
     "name": "stdout",
     "output_type": "stream",
     "text": [
      "47.6 ns ± 0.275 ns per loop (mean ± std. dev. of 7 runs, 10,000,000 loops each)\n"
     ]
    }
   ],
   "source": []
  }
 ],
 "metadata": {
  "kernelspec": {
   "display_name": "Python 3.8.10 64-bit",
   "language": "python",
   "name": "python3"
  },
  "language_info": {
   "codemirror_mode": {
    "name": "ipython",
    "version": 3
   },
   "file_extension": ".py",
   "mimetype": "text/x-python",
   "name": "python",
   "nbconvert_exporter": "python",
   "pygments_lexer": "ipython3",
   "version": "3.8.10"
  },
  "orig_nbformat": 4,
  "vscode": {
   "interpreter": {
    "hash": "916dbcbb3f70747c44a77c7bcd40155683ae19c65e1c03b4aa3499c5328201f1"
   }
  }
 },
 "nbformat": 4,
 "nbformat_minor": 2
}
