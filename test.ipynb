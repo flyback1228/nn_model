{
 "cells": [
  {
   "cell_type": "code",
   "execution_count": 1,
   "metadata": {
    "collapsed": false
   },
   "outputs": [
    {
     "name": "stdout",
     "output_type": "stream",
     "text": [
      "callback vjp evaluate:\n",
      "[0.436633, 2.28303, -0.793243, 2.156, 0.0292098]\n",
      "casadi original evaluate:\n",
      "[0.436633, 2.28303, -0.793243, 2.156, 0.0292098]\n",
      "callback vjp jacobian:\n",
      "\n",
      "[[0.704854, 0, 0], \n",
      " [0, 0, 5], \n",
      " [0, 0.273053, -2], \n",
      " [0.356811, 0, 0.580601], \n",
      " [0, 0.855798, 0]]\n",
      "casasi jacobian:\n",
      "\n",
      "[[0.704854, 00, 00], \n",
      " [00, 00, 5], \n",
      " [00, 0.273053, -2], \n",
      " [0.356811, 00, 0.580601], \n",
      " [00, 0.855798, 00]]\n",
      "callback vjp hessian:\n",
      "\n",
      "[[0, 0, 0], \n",
      " [0, 0, 0], \n",
      " [0, 0, 0], \n",
      " [-0.254443, 0, 0.814188], \n",
      " [0, 0, 0], \n",
      " [0, 0, 0], \n",
      " [0, 0, 0], \n",
      " [0, 8, 0], \n",
      " [0, 0, 0], \n",
      " [0, 0, 0], \n",
      " [0, 0, 0], \n",
      " [0, 0, 0], \n",
      " [0, 0, 0], \n",
      " [0.814188, 0, 0], \n",
      " [0, 0, 0]]\n",
      "casasi hessian:\n",
      "sparse: 15-by-3, 4 nnz\n",
      " (3, 0) -> -0.254443\n",
      " (13, 0) -> 0.814188\n",
      " (7, 1) -> 8\n",
      " (3, 2) -> 0.814188\n"
     ]
    }
   ],
   "source": [
    "import jax.numpy as jnp\n",
    "import casadi as ca\n",
    "import numpy as np\n",
    "import jax\n",
    "from jax_casadi_callback import JaxCasadiCallback\n",
    "\n",
    "\n",
    "f_test = lambda x,y: jnp.asarray([x[0]*y[0], 5*x[2]+y[1], 4*x[1]**2+y[1]*y[2] - 2*x[2], jnp.exp(y[3]) + x[2] * jnp.sin(x[0]),x[1]*y[2]])\n",
    "    \n",
    "opts={'in_dim':[[3,1],[4,1]],'out_dim':[[5,1]],'n_in':2,'n_out':1}\n",
    "f_callback = JaxCasadiCallback('f1',f_test,opts)\n",
    "#DM_x = ca.DM([1,2,3.0])\n",
    "#DM_y = ca.DM([3,1,2,1.5])\n",
    "DM_x = ca.DM_rand(3,1)\n",
    "DM_y = ca.DM_rand(4,1)\n",
    "jnp_x = jnp.asarray([1.0,2,3],dtype=jnp.float32)\n",
    "jnp_y = jnp.asarray([3.0,1,2,1.5],dtype=jnp.float32)\n",
    "\n",
    "v_callback = f_callback(DM_x,DM_y)\n",
    "print('callback vjp evaluate:')\n",
    "print(v_callback)\n",
    "f_jax = jax.jit(f_test)\n",
    "\n",
    "x = ca.MX.sym(\"x\",3,1)\n",
    "y = ca.MX.sym(\"x\",4,1)\n",
    "z = ca.vertcat(x[0]*y[0], 5*x[2]+y[1], 4*x[1]**2+y[1]*y[2] - 2*x[2], ca.exp(y[3]) + x[2] * ca.sin(x[0]),x[1]*y[2])\n",
    "f_casadi = ca.Function('F', [x,y], [z])\n",
    "v_casadi = f_casadi(DM_x,DM_y)\n",
    "print('casadi original evaluate:')\n",
    "print(v_casadi)\n",
    "\n",
    "\n",
    "J_callback = ca.Function('J1', [x,y], [ca.jacobian(f_callback(x,y), x)])\n",
    "v_jac_callback = J_callback(DM_x,DM_y)\n",
    "print('callback vjp jacobian:')\n",
    "print(v_jac_callback)\n",
    "J_casadi = ca.Function('j_casadi', [x,y], [ca.jacobian(f_casadi(x,y), x)])\n",
    "jac_casadi = J_casadi(DM_x,DM_y)\n",
    "print('casasi jacobian:')\n",
    "print(jac_casadi)\n",
    "\n",
    "j_jax = jax.jit(jax.jacobian(f_jax))\n",
    "\n",
    "H_callback = ca.Function('H1', [x,y], [ca.jacobian(J_callback(x,y), x)])\n",
    "v_hes_callback = H_callback(DM_x,DM_y)\n",
    "print('callback vjp hessian:')\n",
    "print(v_hes_callback)\n",
    "H_casadi = ca.Function('h_casadi', [x,y], [ca.jacobian(J_casadi(x,y), x)])\n",
    "hes_casadi = H_casadi(DM_x,DM_y)\n",
    "print('casasi hessian:')\n",
    "print(hes_casadi)\n",
    "\n",
    "h_jax = jax.jit(f_jax)\n",
    "\n"
   ]
  },
  {
   "cell_type": "code",
   "execution_count": 3,
   "metadata": {},
   "outputs": [
    {
     "name": "stdout",
     "output_type": "stream",
     "text": [
      "jax callback evaluate: \n",
      "6.78 ms ± 42.2 µs per loop (mean ± std. dev. of 7 runs, 100 loops each)\n",
      "casadi callback evaluate: \n",
      "45.9 µs ± 140 ns per loop (mean ± std. dev. of 7 runs, 10,000 loops each)\n",
      "jax evaluate: \n",
      "18.2 µs ± 89.9 ns per loop (mean ± std. dev. of 7 runs, 100,000 loops each)\n",
      "jax jacobian evaluate: \n"
     ]
    },
    {
     "ename": "RuntimeError",
     "evalue": "Error in Function::operator() for 'jac_wrap_f1' [MXFunction] at .../casadi/core/function.cpp:1368:\nError in Function::operator() for 'f1' [CallbackInternal] at .../casadi/core/function.cpp:1368:\n.../casadi/core/function_internal.cpp:3366: Failed to evaluate 'eval_dm' for f1:\n.../casadi/core/callback_internal.cpp:122: Error calling \"eval\" for object f1:\n.../casadi/core/callback_internal.cpp:122: Assertion \"(self_)!=0\" failed:\nCallback object has been deleted",
     "output_type": "error",
     "traceback": [
      "\u001b[0;31m---------------------------------------------------------------------------\u001b[0m",
      "\u001b[0;31mRuntimeError\u001b[0m                              Traceback (most recent call last)",
      "Cell \u001b[0;32mIn [3], line 10\u001b[0m\n\u001b[1;32m      6\u001b[0m get_ipython()\u001b[39m.\u001b[39mrun_line_magic(\u001b[39m'\u001b[39m\u001b[39mtimeit\u001b[39m\u001b[39m'\u001b[39m, \u001b[39m'\u001b[39m\u001b[39mf_jax(jnp_x,jnp_y)\u001b[39m\u001b[39m'\u001b[39m)\n\u001b[1;32m      9\u001b[0m \u001b[39mprint\u001b[39m(\u001b[39m'\u001b[39m\u001b[39mjax jacobian evaluate: \u001b[39m\u001b[39m'\u001b[39m)\n\u001b[0;32m---> 10\u001b[0m get_ipython()\u001b[39m.\u001b[39;49mrun_line_magic(\u001b[39m'\u001b[39;49m\u001b[39mtimeit\u001b[39;49m\u001b[39m'\u001b[39;49m, \u001b[39m'\u001b[39;49m\u001b[39mJ_callback(DM_x,DM_y)\u001b[39;49m\u001b[39m'\u001b[39;49m)\n\u001b[1;32m     11\u001b[0m \u001b[39mprint\u001b[39m(\u001b[39m'\u001b[39m\u001b[39mcasadi jacobian evaluate: \u001b[39m\u001b[39m'\u001b[39m)\n\u001b[1;32m     12\u001b[0m get_ipython()\u001b[39m.\u001b[39mrun_line_magic(\u001b[39m'\u001b[39m\u001b[39mtimeit\u001b[39m\u001b[39m'\u001b[39m, \u001b[39m'\u001b[39m\u001b[39mJ_casadi(DM_x,DM_y)\u001b[39m\u001b[39m'\u001b[39m)\n",
      "File \u001b[0;32m~/.local/lib/python3.8/site-packages/IPython/core/interactiveshell.py:2309\u001b[0m, in \u001b[0;36mInteractiveShell.run_line_magic\u001b[0;34m(self, magic_name, line, _stack_depth)\u001b[0m\n\u001b[1;32m   2307\u001b[0m     kwargs[\u001b[39m'\u001b[39m\u001b[39mlocal_ns\u001b[39m\u001b[39m'\u001b[39m] \u001b[39m=\u001b[39m \u001b[39mself\u001b[39m\u001b[39m.\u001b[39mget_local_scope(stack_depth)\n\u001b[1;32m   2308\u001b[0m \u001b[39mwith\u001b[39;00m \u001b[39mself\u001b[39m\u001b[39m.\u001b[39mbuiltin_trap:\n\u001b[0;32m-> 2309\u001b[0m     result \u001b[39m=\u001b[39m fn(\u001b[39m*\u001b[39;49margs, \u001b[39m*\u001b[39;49m\u001b[39m*\u001b[39;49mkwargs)\n\u001b[1;32m   2310\u001b[0m \u001b[39mreturn\u001b[39;00m result\n",
      "File \u001b[0;32m~/.local/lib/python3.8/site-packages/IPython/core/magics/execution.py:1162\u001b[0m, in \u001b[0;36mExecutionMagics.timeit\u001b[0;34m(self, line, cell, local_ns)\u001b[0m\n\u001b[1;32m   1160\u001b[0m \u001b[39mfor\u001b[39;00m index \u001b[39min\u001b[39;00m \u001b[39mrange\u001b[39m(\u001b[39m0\u001b[39m, \u001b[39m10\u001b[39m):\n\u001b[1;32m   1161\u001b[0m     number \u001b[39m=\u001b[39m \u001b[39m10\u001b[39m \u001b[39m*\u001b[39m\u001b[39m*\u001b[39m index\n\u001b[0;32m-> 1162\u001b[0m     time_number \u001b[39m=\u001b[39m timer\u001b[39m.\u001b[39;49mtimeit(number)\n\u001b[1;32m   1163\u001b[0m     \u001b[39mif\u001b[39;00m time_number \u001b[39m>\u001b[39m\u001b[39m=\u001b[39m \u001b[39m0.2\u001b[39m:\n\u001b[1;32m   1164\u001b[0m         \u001b[39mbreak\u001b[39;00m\n",
      "File \u001b[0;32m~/.local/lib/python3.8/site-packages/IPython/core/magics/execution.py:156\u001b[0m, in \u001b[0;36mTimer.timeit\u001b[0;34m(self, number)\u001b[0m\n\u001b[1;32m    154\u001b[0m gc\u001b[39m.\u001b[39mdisable()\n\u001b[1;32m    155\u001b[0m \u001b[39mtry\u001b[39;00m:\n\u001b[0;32m--> 156\u001b[0m     timing \u001b[39m=\u001b[39m \u001b[39mself\u001b[39;49m\u001b[39m.\u001b[39;49minner(it, \u001b[39mself\u001b[39;49m\u001b[39m.\u001b[39;49mtimer)\n\u001b[1;32m    157\u001b[0m \u001b[39mfinally\u001b[39;00m:\n\u001b[1;32m    158\u001b[0m     \u001b[39mif\u001b[39;00m gcold:\n",
      "File \u001b[0;32m<magic-timeit>:1\u001b[0m, in \u001b[0;36minner\u001b[0;34m(_it, _timer)\u001b[0m\n",
      "File \u001b[0;32m~/.local/lib/python3.8/site-packages/casadi/casadi.py:13444\u001b[0m, in \u001b[0;36mFunction.__call__\u001b[0;34m(self, *args, **kwargs)\u001b[0m\n\u001b[1;32m  13441\u001b[0m     \u001b[39mraise\u001b[39;00m \u001b[39mSyntaxError\u001b[39;00m(\u001b[39m'\u001b[39m\u001b[39mFunction evaluation requires all arguments to be named or none\u001b[39m\u001b[39m'\u001b[39m)\n\u001b[1;32m  13442\u001b[0m   \u001b[39mif\u001b[39;00m \u001b[39mlen\u001b[39m(args)\u001b[39m>\u001b[39m\u001b[39m0\u001b[39m:\n\u001b[1;32m  13443\u001b[0m \u001b[39m# Ordered inputs -> return tuple\u001b[39;00m\n\u001b[0;32m> 13444\u001b[0m     ret \u001b[39m=\u001b[39m \u001b[39mself\u001b[39;49m\u001b[39m.\u001b[39;49mcall(args)\n\u001b[1;32m  13445\u001b[0m     \u001b[39mif\u001b[39;00m \u001b[39mlen\u001b[39m(ret)\u001b[39m==\u001b[39m\u001b[39m0\u001b[39m:\n\u001b[1;32m  13446\u001b[0m       \u001b[39mreturn\u001b[39;00m \u001b[39mNone\u001b[39;00m\n",
      "File \u001b[0;32m~/.local/lib/python3.8/site-packages/casadi/casadi.py:12324\u001b[0m, in \u001b[0;36mFunction.call\u001b[0;34m(self, *args)\u001b[0m\n\u001b[1;32m  12256\u001b[0m \u001b[39mdef\u001b[39;00m \u001b[39mcall\u001b[39m(\u001b[39mself\u001b[39m, \u001b[39m*\u001b[39margs) \u001b[39m-\u001b[39m\u001b[39m>\u001b[39m \u001b[39m\"\u001b[39m\u001b[39mvoid\u001b[39m\u001b[39m\"\u001b[39m:\n\u001b[1;32m  12257\u001b[0m     \u001b[39m\"\"\"\u001b[39;00m\n\u001b[1;32m  12258\u001b[0m \u001b[39m      Generate a Jacobian function of output oind with respect to input iind.\u001b[39;00m\n\u001b[1;32m  12259\u001b[0m \n\u001b[0;32m   (...)\u001b[0m\n\u001b[1;32m  12322\u001b[0m \n\u001b[1;32m  12323\u001b[0m \u001b[39m    \"\"\"\u001b[39;00m\n\u001b[0;32m> 12324\u001b[0m     \u001b[39mreturn\u001b[39;00m _casadi\u001b[39m.\u001b[39;49mFunction_call(\u001b[39mself\u001b[39;49m, \u001b[39m*\u001b[39;49margs)\n",
      "\u001b[0;31mRuntimeError\u001b[0m: Error in Function::operator() for 'jac_wrap_f1' [MXFunction] at .../casadi/core/function.cpp:1368:\nError in Function::operator() for 'f1' [CallbackInternal] at .../casadi/core/function.cpp:1368:\n.../casadi/core/function_internal.cpp:3366: Failed to evaluate 'eval_dm' for f1:\n.../casadi/core/callback_internal.cpp:122: Error calling \"eval\" for object f1:\n.../casadi/core/callback_internal.cpp:122: Assertion \"(self_)!=0\" failed:\nCallback object has been deleted"
     ]
    }
   ],
   "source": [
    "print('jax callback evaluate: ')\n",
    "%timeit f_callback(DM_x,DM_y)\n",
    "print('casadi callback evaluate: ')\n",
    "%timeit f_casadi(DM_x,DM_y)\n",
    "print('jax evaluate: ')\n",
    "%timeit f_jax(jnp_x,jnp_y)\n",
    "\n",
    "\n",
    "print('jax jacobian evaluate: ')\n",
    "%timeit J_callback(DM_x,DM_y)\n",
    "print('casadi jacobian evaluate: ')\n",
    "%timeit J_casadi(DM_x,DM_y)\n",
    "print('jax jacobian: ')\n",
    "%timeit j_jax(jnp_x,jnp_y)\n",
    "\n",
    "print('jax hessian evaluate: ')\n",
    "%timeit H_callback(DM_x,DM_y)\n",
    "\n",
    "print('casadi hessian evaluate: ')\n",
    "%timeit H_casadi(DM_x,DM_y)\n",
    "print('jax hessian: ')\n",
    "%timeit h_jax(jnp_x,jnp_y)\n"
   ]
  },
  {
   "cell_type": "code",
   "execution_count": 2,
   "metadata": {},
   "outputs": [
    {
     "name": "stdout",
     "output_type": "stream",
     "text": [
      "callback vjp evaluate:\n",
      "\n",
      "[[0.387178, 0.403445, 0.801093, ..., 0.523478, 0.0774161, 0.148112], \n",
      " [1.37725, 4.40724, 4.78205, ..., 4.89566, 5.17198, 1.88916], \n",
      " [4.07808, -1.59985, -3.03557e-06, ..., 0.0507618, -1.615, -0.2471], \n",
      " [2.13315, 3.19641, 2.31766, ..., 2.20798, 2.64426, 1.72517], \n",
      " [0.876587, 0.160778, 0.365872, ..., 0.4849, 0.0814726, 0.0693544]]\n",
      "casadi original evaluate:\n",
      "\n",
      "[[0.387178, 0.403445, 0.801093, ..., 0.523478, 0.0774161, 0.148112], \n",
      " [1.37725, 4.40724, 4.78205, ..., 4.89566, 5.17198, 1.88916], \n",
      " [4.07808, -1.59985, -3.03557e-06, ..., 0.0507618, -1.615, -0.2471], \n",
      " [2.13315, 3.19641, 2.31766, ..., 2.20798, 2.64426, 1.72517], \n",
      " [0.876587, 0.160778, 0.365872, ..., 0.4849, 0.0814726, 0.0693544]]\n"
     ]
    },
    {
     "ename": "RuntimeError",
     "evalue": "Error in MX::jacobian at .../casadi/core/mx.cpp:1663:\nError in XFunction::jac for 'helper_jacobian_MX' [MXFunction] at .../casadi/core/x_function.hpp:719:\nError in MXFunction::ad_forward at .../casadi/core/mx_function.cpp:831:\nError in MX::ad_forward for node of type N6casadi4CallE at .../casadi/core/mx.cpp:2035:\nError in Call::ad_forward for 'f1' [CallbackInternal] at .../casadi/core/casadi_call.cpp:123:\nError in Function::jacobian for 'wrap_f1' [MXFunction] at .../casadi/core/function.cpp:824:\nError in XFunction::get_jacobian for 'wrap_f1' [MXFunction] at .../casadi/core/x_function.hpp:891:\nError in XFunction::jac for 'flattened_jac_wrap_f1' [MXFunction] at .../casadi/core/x_function.hpp:719:\nError in MXFunction::ad_reverse at .../casadi/core/mx_function.cpp:1042:\nError in MX::ad_reverse for node of type N6casadi4CallE at .../casadi/core/mx.cpp:2044:\nError in Call::ad_reverse for 'f1' [CallbackInternal] at .../casadi/core/casadi_call.cpp:147:\n.../casadi/core/callback_internal.cpp:170: Error calling \"has_reverse\" for object f1:\nKeyboardInterrupt",
     "output_type": "error",
     "traceback": [
      "\u001b[0;31m---------------------------------------------------------------------------\u001b[0m",
      "\u001b[0;31mRuntimeError\u001b[0m                              Traceback (most recent call last)",
      "Cell \u001b[0;32mIn [2], line 27\u001b[0m\n\u001b[1;32m     23\u001b[0m \u001b[39mprint\u001b[39m(\u001b[39m'\u001b[39m\u001b[39mcasadi original evaluate:\u001b[39m\u001b[39m'\u001b[39m)\n\u001b[1;32m     24\u001b[0m \u001b[39mprint\u001b[39m(v_casadi)\n\u001b[0;32m---> 27\u001b[0m J_callback \u001b[39m=\u001b[39m ca\u001b[39m.\u001b[39mFunction(\u001b[39m'\u001b[39m\u001b[39mJ1\u001b[39m\u001b[39m'\u001b[39m, [x,y], [ca\u001b[39m.\u001b[39;49mjacobian(f_callback(x,y), x)])\n\u001b[1;32m     28\u001b[0m v_jac_callback \u001b[39m=\u001b[39m J_callback(DM_x,DM_y)\n\u001b[1;32m     29\u001b[0m \u001b[39mprint\u001b[39m(\u001b[39m'\u001b[39m\u001b[39mcallback vjp jacobian:\u001b[39m\u001b[39m'\u001b[39m)\n",
      "File \u001b[0;32m~/.local/lib/python3.8/site-packages/casadi/casadi.py:21790\u001b[0m, in \u001b[0;36mjacobian\u001b[0;34m(*args)\u001b[0m\n\u001b[1;32m  21777\u001b[0m \u001b[39mdef\u001b[39;00m \u001b[39mjacobian\u001b[39m(\u001b[39m*\u001b[39margs) \u001b[39m-\u001b[39m\u001b[39m>\u001b[39m \u001b[39m\"\u001b[39m\u001b[39mcasadi::Matrix< casadi::SXElem >\u001b[39m\u001b[39m\"\u001b[39m:\n\u001b[1;32m  21778\u001b[0m     \u001b[39m\"\"\"\u001b[39;00m\n\u001b[1;32m  21779\u001b[0m \u001b[39m    Calculate Jacobian.\u001b[39;00m\n\u001b[1;32m  21780\u001b[0m \n\u001b[0;32m   (...)\u001b[0m\n\u001b[1;32m  21788\u001b[0m \n\u001b[1;32m  21789\u001b[0m \u001b[39m    \"\"\"\u001b[39;00m\n\u001b[0;32m> 21790\u001b[0m     \u001b[39mreturn\u001b[39;00m _casadi\u001b[39m.\u001b[39;49mjacobian(\u001b[39m*\u001b[39;49margs)\n",
      "\u001b[0;31mRuntimeError\u001b[0m: Error in MX::jacobian at .../casadi/core/mx.cpp:1663:\nError in XFunction::jac for 'helper_jacobian_MX' [MXFunction] at .../casadi/core/x_function.hpp:719:\nError in MXFunction::ad_forward at .../casadi/core/mx_function.cpp:831:\nError in MX::ad_forward for node of type N6casadi4CallE at .../casadi/core/mx.cpp:2035:\nError in Call::ad_forward for 'f1' [CallbackInternal] at .../casadi/core/casadi_call.cpp:123:\nError in Function::jacobian for 'wrap_f1' [MXFunction] at .../casadi/core/function.cpp:824:\nError in XFunction::get_jacobian for 'wrap_f1' [MXFunction] at .../casadi/core/x_function.hpp:891:\nError in XFunction::jac for 'flattened_jac_wrap_f1' [MXFunction] at .../casadi/core/x_function.hpp:719:\nError in MXFunction::ad_reverse at .../casadi/core/mx_function.cpp:1042:\nError in MX::ad_reverse for node of type N6casadi4CallE at .../casadi/core/mx.cpp:2044:\nError in Call::ad_reverse for 'f1' [CallbackInternal] at .../casadi/core/casadi_call.cpp:147:\n.../casadi/core/callback_internal.cpp:170: Error calling \"has_reverse\" for object f1:\nKeyboardInterrupt"
     ]
    }
   ],
   "source": [
    "\n",
    "f_test = lambda x,y: jnp.asarray([x[0,:]*y[0,:], 5*x[2,:]+y[1,:], 4*x[1,:]**2+y[1,:]*y[2,:] - 2*x[2,:], jnp.exp(y[3,:]) + x[2,:] * jnp.sin(x[0,:]),x[1]*y[2,:]])\n",
    "\n",
    "rows=1000\n",
    "opts={'in_dim':[[3,rows],[4,rows]],'out_dim':[[5,rows]],'n_in':2,'n_out':1}\n",
    "f_callback = JaxCasadiCallback('f1',f_test,opts)\n",
    "#DM_x = ca.DM([1,2,3.0])\n",
    "#DM_y = ca.DM([3,1,2,1.5])\n",
    "DM_x = ca.DM_rand(3,rows)\n",
    "DM_y = ca.DM_rand(4,rows)\n",
    "jnp_x = jnp.asarray(DM_x,dtype=jnp.float32)\n",
    "jnp_y = jnp.asarray(DM_y,dtype=jnp.float32)\n",
    "\n",
    "v_callback = f_callback(DM_x,DM_y)\n",
    "print('callback vjp evaluate:')\n",
    "print(v_callback)\n",
    "f_jax = jax.jit(f_test)\n",
    "\n",
    "x = ca.MX.sym(\"x\",3,rows)\n",
    "y = ca.MX.sym(\"x\",4,rows)\n",
    "z = ca.vertcat(x[0,:]*y[0,:], 5*x[2,:]+y[1,:], 4*x[1,:]**2+y[1,:]*y[2,:] - 2*x[2,:], ca.exp(y[3,:]) + x[2,:] * ca.sin(x[0,:]),x[1,:]*y[2,:])\n",
    "f_casadi = ca.Function('F', [x,y], [z])\n",
    "v_casadi = f_casadi(DM_x,DM_y)\n",
    "print('casadi original evaluate:')\n",
    "print(v_casadi)\n",
    "\n",
    "\n",
    "J_callback = ca.Function('J1', [x,y], [ca.jacobian(f_callback(x,y), x)])\n",
    "v_jac_callback = J_callback(DM_x,DM_y)\n",
    "print('callback vjp jacobian:')\n",
    "print(v_jac_callback)\n",
    "J_casadi = ca.Function('j_casadi', [x,y], [ca.jacobian(f_casadi(x,y), x)])\n",
    "jac_casadi = J_casadi(DM_x,DM_y)\n",
    "print('casasi jacobian:')\n",
    "print(jac_casadi)\n",
    "\n",
    "j_jax = jax.jit(jax.jacobian(f_jax))\n",
    "\n",
    "H_callback = ca.Function('H1', [x,y], [ca.jacobian(J_callback(x,y), x)])\n",
    "v_hes_callback = H_callback(DM_x,DM_y)\n",
    "print('callback vjp hessian:')\n",
    "print(v_hes_callback)\n",
    "H_casadi = ca.Function('h_casadi', [x,y], [ca.jacobian(J_casadi(x,y), x)])\n",
    "hes_casadi = H_casadi(DM_x,DM_y)\n",
    "print('casasi hessian:')\n",
    "print(hes_casadi)\n",
    "\n",
    "h_jax = jax.jit(f_jax)\n"
   ]
  },
  {
   "cell_type": "code",
   "execution_count": 2,
   "metadata": {},
   "outputs": [
    {
     "name": "stdout",
     "output_type": "stream",
     "text": [
      "jax callback evaluate: \n",
      "516 ms ± 5.62 ms per loop (mean ± std. dev. of 7 runs, 1 loop each)\n",
      "casadi callback evaluate: \n",
      "796 µs ± 4.83 µs per loop (mean ± std. dev. of 7 runs, 1,000 loops each)\n",
      "jax evaluate: \n",
      "18.3 µs ± 156 ns per loop (mean ± std. dev. of 7 runs, 100,000 loops each)\n",
      "jax jacobian evaluate: \n",
      "1.93 s ± 19.3 ms per loop (mean ± std. dev. of 7 runs, 1 loop each)\n",
      "casadi jacobian evaluate: \n",
      "716 µs ± 1.69 µs per loop (mean ± std. dev. of 7 runs, 1,000 loops each)\n",
      "jax jacobian: \n",
      "18.4 µs ± 106 ns per loop (mean ± std. dev. of 7 runs, 100,000 loops each)\n",
      "jax hessian evaluate: \n",
      "8.21 s ± 77.7 ms per loop (mean ± std. dev. of 7 runs, 1 loop each)\n",
      "casadi hessian evaluate: \n",
      "788 µs ± 1.06 µs per loop (mean ± std. dev. of 7 runs, 1,000 loops each)\n",
      "jax hessian: \n",
      "18.4 µs ± 107 ns per loop (mean ± std. dev. of 7 runs, 100,000 loops each)\n"
     ]
    }
   ],
   "source": [
    "print('jax callback evaluate: ')\n",
    "%timeit f_callback(DM_x,DM_y)\n",
    "print('casadi callback evaluate: ')\n",
    "%timeit f_casadi(DM_x,DM_y)\n",
    "print('jax evaluate: ')\n",
    "%timeit f_jax(jnp_x,jnp_y)\n",
    "\n",
    "\n",
    "print('jax jacobian evaluate: ')\n",
    "%timeit J_callback(DM_x,DM_y)\n",
    "print('casadi jacobian evaluate: ')\n",
    "%timeit J_casadi(DM_x,DM_y)\n",
    "print('jax jacobian: ')\n",
    "%timeit j_jax(jnp_x,jnp_y)\n",
    "\n",
    "print('jax hessian evaluate: ')\n",
    "%timeit H_callback(DM_x,DM_y)\n",
    "\n",
    "print('casadi hessian evaluate: ')\n",
    "%timeit H_casadi(DM_x,DM_y)\n",
    "print('jax hessian: ')\n",
    "%timeit h_jax(jnp_x,jnp_y)\n"
   ]
  },
  {
   "cell_type": "code",
   "execution_count": 12,
   "metadata": {
    "collapsed": false
   },
   "outputs": [
    {
     "name": "stdout",
     "output_type": "stream",
     "text": [
      "5.59 µs ± 40.8 ns per loop (mean ± std. dev. of 7 runs, 100,000 loops each)\n"
     ]
    }
   ],
   "source": [
    "param_converter = lambda x:x.full()\n",
    "%timeit param_converter(DM_x)"
   ]
  },
  {
   "cell_type": "code",
   "execution_count": 5,
   "metadata": {
    "collapsed": false
   },
   "outputs": [
    {
     "name": "stdout",
     "output_type": "stream",
     "text": [
      "1.89 µs ± 18.7 ns per loop (mean ± std. dev. of 7 runs, 1,000,000 loops each)\n"
     ]
    }
   ],
   "source": [
    "param_converter = lambda jnp_x:np.asarray(jnp_x)\n",
    "%timeit param_converter(jnp_x)\n"
   ]
  }
 ],
 "metadata": {
  "kernelspec": {
   "display_name": "Python 3.8.10 64-bit",
   "language": "python",
   "name": "python3"
  },
  "language_info": {
   "codemirror_mode": {
    "name": "ipython",
    "version": 3
   },
   "file_extension": ".py",
   "mimetype": "text/x-python",
   "name": "python",
   "nbconvert_exporter": "python",
   "pygments_lexer": "ipython3",
   "version": "3.8.10"
  },
  "orig_nbformat": 4,
  "vscode": {
   "interpreter": {
    "hash": "916dbcbb3f70747c44a77c7bcd40155683ae19c65e1c03b4aa3499c5328201f1"
   }
  }
 },
 "nbformat": 4,
 "nbformat_minor": 2
}
