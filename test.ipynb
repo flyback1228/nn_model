{
 "cells": [
  {
   "cell_type": "code",
   "execution_count": 2,
   "metadata": {
    "collapsed": false
   },
   "outputs": [
    {
     "name": "stdout",
     "output_type": "stream",
     "text": [
      "callback vjp evaluate:\n",
      "[0.970066, 3.94321, -0.968932, 1.60888, 0.018216]\n",
      "casadi original evaluate:\n",
      "[0.970066, 3.94321, -0.968932, 1.60888, 0.018216]\n",
      "callback vjp jacobian:\n",
      "\n",
      "[[0.994211, 0, 0], \n",
      " [0, 0, 5], \n",
      " [0, 0.333213, -2], \n",
      " [0.361568, 0, 0.828103], \n",
      " [0, 0.437342, 0]]\n",
      "casasi jacobian:\n",
      "\n",
      "[[0.994211, 00, 00], \n",
      " [00, 00, 5], \n",
      " [00, 0.333213, -2], \n",
      " [0.361568, 00, 0.828103], \n",
      " [00, 0.437342, 00]]\n",
      "callback vjp hessian:\n",
      "\n",
      "[[0, 0, 0], \n",
      " [0, 0, 0], \n",
      " [0, 0, 0], \n",
      " [-0.534122, 0, 0.560576], \n",
      " [0, 0, 0], \n",
      " [0, 0, 0], \n",
      " [0, 0, 0], \n",
      " [0, 8, 0], \n",
      " [0, 0, 0], \n",
      " [0, 0, 0], \n",
      " [0, 0, 0], \n",
      " [0, 0, 0], \n",
      " [0, 0, 0], \n",
      " [0.560576, 0, 0], \n",
      " [0, 0, 0]]\n",
      "casasi hessian:\n",
      "sparse: 15-by-3, 4 nnz\n",
      " (3, 0) -> -0.534122\n",
      " (13, 0) -> 0.560576\n",
      " (7, 1) -> 8\n",
      " (3, 2) -> 0.560576\n"
     ]
    }
   ],
   "source": [
    "import jax.numpy as jnp\n",
    "import casadi as ca\n",
    "import numpy as np\n",
    "import jax\n",
    "from jax_casadi_callback import JaxCasadiCallback\n",
    "\n",
    "\n",
    "f_test = lambda x,y: jnp.asarray([x[0]*y[0], 5*x[2]+y[1], 4*x[1]**2+y[1]*y[2] - 2*x[2], jnp.exp(y[3]) + x[2] * jnp.sin(x[0]),x[1]*y[2]])\n",
    "    \n",
    "opts={'in_dim':[[3,1],[4,1]],'out_dim':[[5,1]],'n_in':2,'n_out':1}\n",
    "f_callback = JaxCasadiCallback('f1',f_test,opts)\n",
    "#DM_x = ca.DM([1,2,3.0])\n",
    "#DM_y = ca.DM([3,1,2,1.5])\n",
    "DM_x = ca.DM_rand(3,1)\n",
    "DM_y = ca.DM_rand(4,1)\n",
    "jnp_x = jnp.asarray([1.0,2,3],dtype=jnp.float32)\n",
    "jnp_y = jnp.asarray([3.0,1,2,1.5],dtype=jnp.float32)\n",
    "\n",
    "v_callback = f_callback(DM_x,DM_y)\n",
    "print('callback vjp evaluate:')\n",
    "print(v_callback)\n",
    "f_jax = jax.jit(f_test)\n",
    "\n",
    "x = ca.MX.sym(\"x\",3,1)\n",
    "y = ca.MX.sym(\"x\",4,1)\n",
    "z = ca.vertcat(x[0]*y[0], 5*x[2]+y[1], 4*x[1]**2+y[1]*y[2] - 2*x[2], ca.exp(y[3]) + x[2] * ca.sin(x[0]),x[1]*y[2])\n",
    "f_casadi = ca.Function('F', [x,y], [z])\n",
    "v_casadi = f_casadi(DM_x,DM_y)\n",
    "print('casadi original evaluate:')\n",
    "print(v_casadi)\n",
    "\n",
    "\n",
    "J_callback = ca.Function('J1', [x,y], [ca.jacobian(f_callback(x,y), x)])\n",
    "v_jac_callback = J_callback(DM_x,DM_y)\n",
    "print('callback vjp jacobian:')\n",
    "print(v_jac_callback)\n",
    "J_casadi = ca.Function('j_casadi', [x,y], [ca.jacobian(f_casadi(x,y), x)])\n",
    "jac_casadi = J_casadi(DM_x,DM_y)\n",
    "print('casasi jacobian:')\n",
    "print(jac_casadi)\n",
    "\n",
    "j_jax = jax.jit(jax.jacobian(f_jax))\n",
    "\n",
    "H_callback = ca.Function('H1', [x,y], [ca.jacobian(J_callback(x,y), x)])\n",
    "v_hes_callback = H_callback(DM_x,DM_y)\n",
    "print('callback vjp hessian:')\n",
    "print(v_hes_callback)\n",
    "H_casadi = ca.Function('h_casadi', [x,y], [ca.jacobian(J_casadi(x,y), x)])\n",
    "hes_casadi = H_casadi(DM_x,DM_y)\n",
    "print('casasi hessian:')\n",
    "print(hes_casadi)\n",
    "\n",
    "h_jax = jax.jit(f_jax)\n",
    "\n"
   ]
  },
  {
   "cell_type": "code",
   "execution_count": 3,
   "metadata": {},
   "outputs": [
    {
     "name": "stdout",
     "output_type": "stream",
     "text": [
      "callback vjp evaluate:\n",
      "\n",
      "[[0.357666, 0.017375, 0.259048, ..., 0.0328581, 0.450513, 0.000580771], \n",
      " [0.211937, 1.02448, 3.70683, ..., 1.21579, 1.76165, 1.98562], \n",
      " [0.456773, 2.94293, -1.17034, ..., 0.791119, -0.27058, 0.228], \n",
      " [1.0892, 2.01967, 2.57237, ..., 2.04877, 1.77306, 2.63751], \n",
      " [0.102913, 0.165582, 0.0541166, ..., 0.152939, 0.0309678, 0.187006]]\n",
      "casadi original evaluate:\n",
      "\n",
      "[[0.357666, 0.017375, 0.259048, ..., 0.0328581, 0.450513, 0.000580771], \n",
      " [0.211937, 1.02448, 3.70683, ..., 1.21579, 1.76165, 1.98562], \n",
      " [0.456773, 2.94293, -1.17034, ..., 0.791119, -0.27058, 0.228], \n",
      " [1.0892, 2.01967, 2.57237, ..., 2.04877, 1.77306, 2.63751], \n",
      " [0.102913, 0.165582, 0.0541166, ..., 0.152939, 0.0309678, 0.187006]]\n"
     ]
    },
    {
     "ename": "RuntimeError",
     "evalue": "Error in MX::jacobian at .../casadi/core/mx.cpp:1663:\nError in XFunction::jac for 'helper_jacobian_MX' [MXFunction] at .../casadi/core/x_function.hpp:719:\nError in MXFunction::ad_forward at .../casadi/core/mx_function.cpp:831:\nError in MX::ad_forward for node of type N6casadi4CallE at .../casadi/core/mx.cpp:2035:\nError in Call::ad_forward for 'f1' [CallbackInternal] at .../casadi/core/casadi_call.cpp:123:\nError in Function::jacobian for 'wrap_f1' [MXFunction] at .../casadi/core/function.cpp:824:\nError in XFunction::get_jacobian for 'wrap_f1' [MXFunction] at .../casadi/core/x_function.hpp:891:\nError in XFunction::jac for 'flattened_jac_wrap_f1' [MXFunction] at .../casadi/core/x_function.hpp:719:\nError in MXFunction::ad_reverse at .../casadi/core/mx_function.cpp:1042:\nError in MX::ad_reverse for node of type N6casadi4CallE at .../casadi/core/mx.cpp:2044:\nError in Call::ad_reverse for 'f1' [CallbackInternal] at .../casadi/core/casadi_call.cpp:147:\n.../casadi/core/callback_internal.cpp:170: Error calling \"has_reverse\" for object f1:\nKeyboardInterrupt",
     "output_type": "error",
     "traceback": [
      "\u001b[0;31m---------------------------------------------------------------------------\u001b[0m",
      "\u001b[0;31mRuntimeError\u001b[0m                              Traceback (most recent call last)",
      "Cell \u001b[0;32mIn [3], line 27\u001b[0m\n\u001b[1;32m     23\u001b[0m \u001b[39mprint\u001b[39m(\u001b[39m'\u001b[39m\u001b[39mcasadi original evaluate:\u001b[39m\u001b[39m'\u001b[39m)\n\u001b[1;32m     24\u001b[0m \u001b[39mprint\u001b[39m(v_casadi)\n\u001b[0;32m---> 27\u001b[0m J_callback \u001b[39m=\u001b[39m ca\u001b[39m.\u001b[39mFunction(\u001b[39m'\u001b[39m\u001b[39mJ1\u001b[39m\u001b[39m'\u001b[39m, [x,y], [ca\u001b[39m.\u001b[39;49mjacobian(f_callback(x,y), x)])\n\u001b[1;32m     28\u001b[0m v_jac_callback \u001b[39m=\u001b[39m J_callback(DM_x,DM_y)\n\u001b[1;32m     29\u001b[0m \u001b[39mprint\u001b[39m(\u001b[39m'\u001b[39m\u001b[39mcallback vjp jacobian:\u001b[39m\u001b[39m'\u001b[39m)\n",
      "File \u001b[0;32m~/.local/lib/python3.8/site-packages/casadi/casadi.py:21790\u001b[0m, in \u001b[0;36mjacobian\u001b[0;34m(*args)\u001b[0m\n\u001b[1;32m  21777\u001b[0m \u001b[39mdef\u001b[39;00m \u001b[39mjacobian\u001b[39m(\u001b[39m*\u001b[39margs) \u001b[39m-\u001b[39m\u001b[39m>\u001b[39m \u001b[39m\"\u001b[39m\u001b[39mcasadi::Matrix< casadi::SXElem >\u001b[39m\u001b[39m\"\u001b[39m:\n\u001b[1;32m  21778\u001b[0m     \u001b[39m\"\"\"\u001b[39;00m\n\u001b[1;32m  21779\u001b[0m \u001b[39m    Calculate Jacobian.\u001b[39;00m\n\u001b[1;32m  21780\u001b[0m \n\u001b[0;32m   (...)\u001b[0m\n\u001b[1;32m  21788\u001b[0m \n\u001b[1;32m  21789\u001b[0m \u001b[39m    \"\"\"\u001b[39;00m\n\u001b[0;32m> 21790\u001b[0m     \u001b[39mreturn\u001b[39;00m _casadi\u001b[39m.\u001b[39;49mjacobian(\u001b[39m*\u001b[39;49margs)\n",
      "\u001b[0;31mRuntimeError\u001b[0m: Error in MX::jacobian at .../casadi/core/mx.cpp:1663:\nError in XFunction::jac for 'helper_jacobian_MX' [MXFunction] at .../casadi/core/x_function.hpp:719:\nError in MXFunction::ad_forward at .../casadi/core/mx_function.cpp:831:\nError in MX::ad_forward for node of type N6casadi4CallE at .../casadi/core/mx.cpp:2035:\nError in Call::ad_forward for 'f1' [CallbackInternal] at .../casadi/core/casadi_call.cpp:123:\nError in Function::jacobian for 'wrap_f1' [MXFunction] at .../casadi/core/function.cpp:824:\nError in XFunction::get_jacobian for 'wrap_f1' [MXFunction] at .../casadi/core/x_function.hpp:891:\nError in XFunction::jac for 'flattened_jac_wrap_f1' [MXFunction] at .../casadi/core/x_function.hpp:719:\nError in MXFunction::ad_reverse at .../casadi/core/mx_function.cpp:1042:\nError in MX::ad_reverse for node of type N6casadi4CallE at .../casadi/core/mx.cpp:2044:\nError in Call::ad_reverse for 'f1' [CallbackInternal] at .../casadi/core/casadi_call.cpp:147:\n.../casadi/core/callback_internal.cpp:170: Error calling \"has_reverse\" for object f1:\nKeyboardInterrupt"
     ]
    }
   ],
   "source": [
    "\n",
    "f_test = lambda x,y: jnp.asarray([x[0,:]*y[0,:], 5*x[2,:]+y[1,:], 4*x[1,:]**2+y[1,:]*y[2,:] - 2*x[2,:], jnp.exp(y[3,:]) + x[2,:] * jnp.sin(x[0,:]),x[1]*y[2,:]])\n",
    "\n",
    "rows=1000\n",
    "opts={'in_dim':[[3,rows],[4,rows]],'out_dim':[[5,rows]],'n_in':2,'n_out':1}\n",
    "f_callback = JaxCasadiCallback('f1',f_test,opts)\n",
    "#DM_x = ca.DM([1,2,3.0])\n",
    "#DM_y = ca.DM([3,1,2,1.5])\n",
    "DM_x = ca.DM_rand(3,rows)\n",
    "DM_y = ca.DM_rand(4,rows)\n",
    "jnp_x = jnp.asarray(DM_x,dtype=jnp.float32)\n",
    "jnp_y = jnp.asarray(DM_y,dtype=jnp.float32)\n",
    "\n",
    "v_callback = f_callback(DM_x,DM_y)\n",
    "print('callback vjp evaluate:')\n",
    "print(v_callback)\n",
    "f_jax = jax.jit(f_test)\n",
    "\n",
    "x = ca.MX.sym(\"x\",3,rows)\n",
    "y = ca.MX.sym(\"x\",4,rows)\n",
    "z = ca.vertcat(x[0,:]*y[0,:], 5*x[2,:]+y[1,:], 4*x[1,:]**2+y[1,:]*y[2,:] - 2*x[2,:], ca.exp(y[3,:]) + x[2,:] * ca.sin(x[0,:]),x[1,:]*y[2,:])\n",
    "f_casadi = ca.Function('F', [x,y], [z])\n",
    "v_casadi = f_casadi(DM_x,DM_y)\n",
    "print('casadi original evaluate:')\n",
    "print(v_casadi)\n",
    "\n",
    "\n",
    "J_callback = ca.Function('J1', [x,y], [ca.jacobian(f_callback(x,y), x)])\n",
    "v_jac_callback = J_callback(DM_x,DM_y)\n",
    "print('callback vjp jacobian:')\n",
    "print(v_jac_callback)\n",
    "J_casadi = ca.Function('j_casadi', [x,y], [ca.jacobian(f_casadi(x,y), x)])\n",
    "jac_casadi = J_casadi(DM_x,DM_y)\n",
    "print('casasi jacobian:')\n",
    "print(jac_casadi)\n",
    "\n",
    "j_jax = jax.jit(jax.jacobian(f_jax))\n",
    "\n",
    "H_callback = ca.Function('H1', [x,y], [ca.jacobian(J_callback(x,y), x)])\n",
    "v_hes_callback = H_callback(DM_x,DM_y)\n",
    "print('callback vjp hessian:')\n",
    "print(v_hes_callback)\n",
    "H_casadi = ca.Function('h_casadi', [x,y], [ca.jacobian(J_casadi(x,y), x)])\n",
    "hes_casadi = H_casadi(DM_x,DM_y)\n",
    "print('casasi hessian:')\n",
    "print(hes_casadi)\n",
    "\n",
    "h_jax = jax.jit(f_jax)\n"
   ]
  },
  {
   "cell_type": "code",
   "execution_count": 2,
   "metadata": {},
   "outputs": [
    {
     "name": "stdout",
     "output_type": "stream",
     "text": [
      "jax callback evaluate: \n",
      "516 ms ± 5.62 ms per loop (mean ± std. dev. of 7 runs, 1 loop each)\n",
      "casadi callback evaluate: \n",
      "796 µs ± 4.83 µs per loop (mean ± std. dev. of 7 runs, 1,000 loops each)\n",
      "jax evaluate: \n",
      "18.3 µs ± 156 ns per loop (mean ± std. dev. of 7 runs, 100,000 loops each)\n",
      "jax jacobian evaluate: \n",
      "1.93 s ± 19.3 ms per loop (mean ± std. dev. of 7 runs, 1 loop each)\n",
      "casadi jacobian evaluate: \n",
      "716 µs ± 1.69 µs per loop (mean ± std. dev. of 7 runs, 1,000 loops each)\n",
      "jax jacobian: \n",
      "18.4 µs ± 106 ns per loop (mean ± std. dev. of 7 runs, 100,000 loops each)\n",
      "jax hessian evaluate: \n",
      "8.21 s ± 77.7 ms per loop (mean ± std. dev. of 7 runs, 1 loop each)\n",
      "casadi hessian evaluate: \n",
      "788 µs ± 1.06 µs per loop (mean ± std. dev. of 7 runs, 1,000 loops each)\n",
      "jax hessian: \n",
      "18.4 µs ± 107 ns per loop (mean ± std. dev. of 7 runs, 100,000 loops each)\n"
     ]
    }
   ],
   "source": [
    "print('jax callback evaluate: ')\n",
    "%timeit f_callback(DM_x,DM_y)\n",
    "print('casadi callback evaluate: ')\n",
    "%timeit f_casadi(DM_x,DM_y)\n",
    "print('jax evaluate: ')\n",
    "%timeit f_jax(jnp_x,jnp_y)\n",
    "\n",
    "\n",
    "print('jax jacobian evaluate: ')\n",
    "%timeit J_callback(DM_x,DM_y)\n",
    "print('casadi jacobian evaluate: ')\n",
    "%timeit J_casadi(DM_x,DM_y)\n",
    "print('jax jacobian: ')\n",
    "%timeit j_jax(jnp_x,jnp_y)\n",
    "\n",
    "print('jax hessian evaluate: ')\n",
    "%timeit H_callback(DM_x,DM_y)\n",
    "\n",
    "print('casadi hessian evaluate: ')\n",
    "%timeit H_casadi(DM_x,DM_y)\n",
    "print('jax hessian: ')\n",
    "%timeit h_jax(jnp_x,jnp_y)\n"
   ]
  },
  {
   "cell_type": "code",
   "execution_count": 12,
   "metadata": {
    "collapsed": false
   },
   "outputs": [
    {
     "name": "stdout",
     "output_type": "stream",
     "text": [
      "5.59 µs ± 40.8 ns per loop (mean ± std. dev. of 7 runs, 100,000 loops each)\n"
     ]
    }
   ],
   "source": [
    "param_converter = lambda x:x.full()\n",
    "%timeit param_converter(DM_x)"
   ]
  },
  {
   "cell_type": "code",
   "execution_count": 5,
   "metadata": {
    "collapsed": false
   },
   "outputs": [
    {
     "name": "stdout",
     "output_type": "stream",
     "text": [
      "1.89 µs ± 18.7 ns per loop (mean ± std. dev. of 7 runs, 1,000,000 loops each)\n"
     ]
    }
   ],
   "source": [
    "param_converter = lambda jnp_x:np.asarray(jnp_x)\n",
    "%timeit param_converter(jnp_x)\n"
   ]
  }
 ],
 "metadata": {
  "kernelspec": {
   "display_name": "Python 3.8.10 64-bit",
   "language": "python",
   "name": "python3"
  },
  "language_info": {
   "codemirror_mode": {
    "name": "ipython",
    "version": 3
   },
   "file_extension": ".py",
   "mimetype": "text/x-python",
   "name": "python",
   "nbconvert_exporter": "python",
   "pygments_lexer": "ipython3",
   "version": "3.8.10"
  },
  "orig_nbformat": 4,
  "vscode": {
   "interpreter": {
    "hash": "916dbcbb3f70747c44a77c7bcd40155683ae19c65e1c03b4aa3499c5328201f1"
   }
  }
 },
 "nbformat": 4,
 "nbformat_minor": 2
}
