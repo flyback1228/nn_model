{
 "cells": [
  {
   "cell_type": "code",
   "execution_count": 1,
   "metadata": {
    "collapsed": true
   },
   "outputs": [
    {
     "name": "stderr",
     "output_type": "stream",
     "text": [
      "2022-10-09 14:50:06.261873: I tensorflow/core/platform/cpu_feature_guard.cc:193] This TensorFlow binary is optimized with oneAPI Deep Neural Network Library (oneDNN) to use the following CPU instructions in performance-critical operations:  AVX2 FMA\n",
      "To enable them in other operations, rebuild TensorFlow with the appropriate compiler flags.\n",
      "2022-10-09 14:50:06.412698: E tensorflow/stream_executor/cuda/cuda_blas.cc:2981] Unable to register cuBLAS factory: Attempting to register factory for plugin cuBLAS when one has already been registered\n",
      "2022-10-09 14:50:06.870816: W tensorflow/stream_executor/platform/default/dso_loader.cc:64] Could not load dynamic library 'libnvinfer.so.7'; dlerror: libnvinfer.so.7: cannot open shared object file: No such file or directory\n",
      "2022-10-09 14:50:06.870881: W tensorflow/stream_executor/platform/default/dso_loader.cc:64] Could not load dynamic library 'libnvinfer_plugin.so.7'; dlerror: libnvinfer_plugin.so.7: cannot open shared object file: No such file or directory\n",
      "2022-10-09 14:50:06.870887: W tensorflow/compiler/tf2tensorrt/utils/py_utils.cc:38] TF-TRT Warning: Cannot dlopen some TensorRT libraries. If you would like to use Nvidia GPU with TensorRT, please make sure the missing libraries mentioned above are installed properly.\n"
     ]
    },
    {
     "name": "stdout",
     "output_type": "stream",
     "text": [
      "2.10.0\n"
     ]
    }
   ],
   "source": [
    "import numpy as np\n",
    "import tensorflow as tf\n",
    "import matplotlib.pyplot as plt\n",
    "\n",
    "print(tf.__version__)"
   ]
  },
  {
   "cell_type": "code",
   "execution_count": 2,
   "outputs": [
    {
     "name": "stdout",
     "output_type": "stream",
     "text": [
      "[[  3.20449854   2.85800218  -4.33533806  -0.97209247  -8.07829853\n",
      "   11.93423825  -4.3051714    1.76192875  -4.33438682   1.77388542]\n",
      " [  3.06064764   2.34991961  -3.50841735  -4.63072136 -12.0463229\n",
      "   21.08299674  -2.07948816   4.44471054  -2.06438134   4.46291992]\n",
      " [  2.74348635   1.6765937   -2.25636552  -8.04949242 -14.62594151\n",
      "   28.62500266  -2.06447959   4.46280148  -2.06438134   4.46291992]\n",
      " [  2.25738003   0.91536564  -0.68738097 -11.36504141 -15.5298887\n",
      "   33.6880841   -2.06438216   4.46291893  -2.06438134   4.46291992]\n",
      " [  1.61144012   0.15330298   1.06578918 -14.41187267 -14.65920691\n",
      "   35.96090489  -2.06438134   4.46291991  -2.06438134   4.46291992]]\n"
     ]
    }
   ],
   "source": [
    "data = np.loadtxt('foo.csv',delimiter=',')\n",
    "print(data[0:5,:])"
   ],
   "metadata": {
    "collapsed": false
   }
  },
  {
   "cell_type": "code",
   "execution_count": 3,
   "outputs": [],
   "source": [
    "rows,cols = data.shape\n",
    "dt = 0.05\n",
    "\n",
    "x_data = data[0:-1,0:8]\n",
    "u_data=data[0:-1,-2:]\n",
    "x_dot_data = (data[1:,3:8]-data[0:-1,3:8])/dt\n"
   ],
   "metadata": {
    "collapsed": false
   }
  },
  {
   "cell_type": "code",
   "execution_count": 4,
   "outputs": [],
   "source": [
    "tf.compat.v1.disable_eager_execution()\n",
    "X = tf.compat.v1.placeholder(shape=(8,),dtype='float32')\n",
    "U = tf.compat.v1.placeholder(shape=(2,),dtype='float32')\n",
    "X_dot = tf.compat.v1.placeholder(shape=(5,),dtype='float32')\n",
    "c = tf.Variable(np.random.random((4,)),trainable=True,name='c',dtype='float32')\n",
    "d = tf.Variable(np.random.random((3,)),trainable=True,name='d',dtype='float32')\n",
    "theta = tf.Variable(np.random.random()*1e-4,trainable=True,dtype='float32')\n",
    "tau = tf.Variable(np.random.random()*1e-2,trainable=True,dtype='float32')"
   ],
   "metadata": {
    "collapsed": false
   }
  },
  {
   "cell_type": "code",
   "execution_count": 5,
   "outputs": [],
   "source": [
    "learning_rate = 0.01\n",
    "training_epochs=5000"
   ],
   "metadata": {
    "collapsed": false
   }
  },
  {
   "cell_type": "code",
   "execution_count": 6,
   "outputs": [],
   "source": [
    "X_dot_pred = tf.stack([-(c[0]*1e3)/(theta*1e4)*(X[0]-X[-2])-(c[1]*1e3)/(theta*1e4)*(X[0]-X[1])-(d[0]*1e5)/(theta*1e4)*X[3],\n",
    "           -(c[1]*1e3)/(theta*1e4)*(X[1]-X[0])-(c[2]*1e3)/(theta*1e4)*(X[1]-X[2])-(d[1]*1e5)/(theta*1e4)*X[4],\n",
    "           -(c[2]*1e3)/(theta*1e4)*(X[2]-X[1])-(c[3]*1e3)/(theta*1e4)*(X[2]-X[-1])-(d[2]*1e5)/(theta*1e4)*X[5],\n",
    "           1/(tau*1e2)*(U[0] - X[-2]),\n",
    "           1/(tau*1e2)*(U[1] - X[-1])])"
   ],
   "metadata": {
    "collapsed": false
   }
  },
  {
   "cell_type": "code",
   "execution_count": 12,
   "outputs": [
    {
     "ename": "ValueError",
     "evalue": "Index out of range using input dim 1; input has only 1 dims for '{{node strided_slice_29}} = StridedSlice[Index=DT_INT32, T=DT_FLOAT, begin_mask=1, ellipsis_mask=0, end_mask=1, new_axis_mask=0, shrink_axis_mask=2](Placeholder, strided_slice_29/stack, strided_slice_29/stack_1, strided_slice_29/stack_2)' with input shapes: [8], [2], [2], [2] and with computed input tensors: input[3] = <1 1>.",
     "output_type": "error",
     "traceback": [
      "\u001B[0;31m---------------------------------------------------------------------------\u001B[0m",
      "\u001B[0;31mValueError\u001B[0m                                Traceback (most recent call last)",
      "Cell \u001B[0;32mIn [12], line 1\u001B[0m\n\u001B[0;32m----> 1\u001B[0m X_dot_pred \u001B[38;5;241m=\u001B[39m tf\u001B[38;5;241m.\u001B[39mstack([\u001B[38;5;241m-\u001B[39m(c[\u001B[38;5;241m0\u001B[39m]\u001B[38;5;241m*\u001B[39m\u001B[38;5;241m1e3\u001B[39m)\u001B[38;5;241m/\u001B[39m(theta\u001B[38;5;241m*\u001B[39m\u001B[38;5;241m1e4\u001B[39m)\u001B[38;5;241m*\u001B[39m(\u001B[43mX\u001B[49m\u001B[43m[\u001B[49m\u001B[43m:\u001B[49m\u001B[43m,\u001B[49m\u001B[38;5;241;43m0\u001B[39;49m\u001B[43m]\u001B[49m\u001B[38;5;241m-\u001B[39mX[:,\u001B[38;5;241m-\u001B[39m\u001B[38;5;241m2\u001B[39m])\u001B[38;5;241m-\u001B[39m(c[\u001B[38;5;241m1\u001B[39m]\u001B[38;5;241m*\u001B[39m\u001B[38;5;241m1e3\u001B[39m)(theta\u001B[38;5;241m*\u001B[39m\u001B[38;5;241m1e4\u001B[39m)\u001B[38;5;241m*\u001B[39m(X[:,\u001B[38;5;241m0\u001B[39m]\u001B[38;5;241m-\u001B[39mX[:,\u001B[38;5;241m1\u001B[39m])\u001B[38;5;241m-\u001B[39m(d[\u001B[38;5;241m0\u001B[39m]\u001B[38;5;241m*\u001B[39m\u001B[38;5;241m1e5\u001B[39m)\u001B[38;5;241m/\u001B[39m(theta\u001B[38;5;241m*\u001B[39m\u001B[38;5;241m1e4\u001B[39m)\u001B[38;5;241m*\u001B[39mX[:,\u001B[38;5;241m3\u001B[39m],\n\u001B[1;32m      2\u001B[0m             \u001B[38;5;241m-\u001B[39m(c[\u001B[38;5;241m1\u001B[39m]\u001B[38;5;241m*\u001B[39m\u001B[38;5;241m1e3\u001B[39m)\u001B[38;5;241m/\u001B[39m(theta\u001B[38;5;241m*\u001B[39m\u001B[38;5;241m1e4\u001B[39m)\u001B[38;5;241m*\u001B[39m(X[:,\u001B[38;5;241m1\u001B[39m]\u001B[38;5;241m-\u001B[39mX[:,\u001B[38;5;241m0\u001B[39m])\u001B[38;5;241m-\u001B[39m(c[\u001B[38;5;241m2\u001B[39m]\u001B[38;5;241m*\u001B[39m\u001B[38;5;241m1e3\u001B[39m)\u001B[38;5;241m/\u001B[39m(theta\u001B[38;5;241m*\u001B[39m\u001B[38;5;241m1e4\u001B[39m)\u001B[38;5;241m*\u001B[39m(X[:,\u001B[38;5;241m1\u001B[39m]\u001B[38;5;241m-\u001B[39mX[:,\u001B[38;5;241m2\u001B[39m])\u001B[38;5;241m-\u001B[39m(d[\u001B[38;5;241m1\u001B[39m]\u001B[38;5;241m*\u001B[39m\u001B[38;5;241m1e5\u001B[39m)\u001B[38;5;241m/\u001B[39m(theta\u001B[38;5;241m*\u001B[39m\u001B[38;5;241m1e4\u001B[39m)\u001B[38;5;241m*\u001B[39mX[:,\u001B[38;5;241m4\u001B[39m],\n\u001B[1;32m      3\u001B[0m             \u001B[38;5;241m-\u001B[39m(c[\u001B[38;5;241m2\u001B[39m]\u001B[38;5;241m*\u001B[39m\u001B[38;5;241m1e3\u001B[39m)\u001B[38;5;241m/\u001B[39m(theta\u001B[38;5;241m*\u001B[39m\u001B[38;5;241m1e4\u001B[39m)\u001B[38;5;241m*\u001B[39m(X[:,\u001B[38;5;241m2\u001B[39m]\u001B[38;5;241m-\u001B[39mX[:,\u001B[38;5;241m1\u001B[39m])\u001B[38;5;241m-\u001B[39m(c[\u001B[38;5;241m3\u001B[39m]\u001B[38;5;241m*\u001B[39m\u001B[38;5;241m1e3\u001B[39m)\u001B[38;5;241m/\u001B[39m(theta\u001B[38;5;241m*\u001B[39m\u001B[38;5;241m1e4\u001B[39m)\u001B[38;5;241m*\u001B[39m(X[:,\u001B[38;5;241m2\u001B[39m]\u001B[38;5;241m-\u001B[39mX[:,\u001B[38;5;241m-\u001B[39m\u001B[38;5;241m1\u001B[39m])\u001B[38;5;241m-\u001B[39m(d[\u001B[38;5;241m2\u001B[39m]\u001B[38;5;241m*\u001B[39m\u001B[38;5;241m1e5\u001B[39m)\u001B[38;5;241m/\u001B[39m(theta\u001B[38;5;241m*\u001B[39m\u001B[38;5;241m1e4\u001B[39m)\u001B[38;5;241m*\u001B[39mX[:,\u001B[38;5;241m5\u001B[39m],\n\u001B[1;32m      4\u001B[0m             \u001B[38;5;241m1\u001B[39m\u001B[38;5;241m/\u001B[39m(tau\u001B[38;5;241m*\u001B[39m\u001B[38;5;241m1e2\u001B[39m)\u001B[38;5;241m*\u001B[39m(U[:,\u001B[38;5;241m0\u001B[39m] \u001B[38;5;241m-\u001B[39m X[:,\u001B[38;5;241m-\u001B[39m\u001B[38;5;241m2\u001B[39m]),\n\u001B[1;32m      5\u001B[0m             \u001B[38;5;241m1\u001B[39m\u001B[38;5;241m/\u001B[39m(tau\u001B[38;5;241m*\u001B[39m\u001B[38;5;241m1e2\u001B[39m)\u001B[38;5;241m*\u001B[39m(U[:,\u001B[38;5;241m1\u001B[39m] \u001B[38;5;241m-\u001B[39m X[:,\u001B[38;5;241m-\u001B[39m\u001B[38;5;241m1\u001B[39m])])\n",
      "File \u001B[0;32m~/.local/lib/python3.8/site-packages/tensorflow/python/util/traceback_utils.py:153\u001B[0m, in \u001B[0;36mfilter_traceback.<locals>.error_handler\u001B[0;34m(*args, **kwargs)\u001B[0m\n\u001B[1;32m    151\u001B[0m \u001B[38;5;28;01mexcept\u001B[39;00m \u001B[38;5;167;01mException\u001B[39;00m \u001B[38;5;28;01mas\u001B[39;00m e:\n\u001B[1;32m    152\u001B[0m   filtered_tb \u001B[38;5;241m=\u001B[39m _process_traceback_frames(e\u001B[38;5;241m.\u001B[39m__traceback__)\n\u001B[0;32m--> 153\u001B[0m   \u001B[38;5;28;01mraise\u001B[39;00m e\u001B[38;5;241m.\u001B[39mwith_traceback(filtered_tb) \u001B[38;5;28;01mfrom\u001B[39;00m \u001B[38;5;28mNone\u001B[39m\n\u001B[1;32m    154\u001B[0m \u001B[38;5;28;01mfinally\u001B[39;00m:\n\u001B[1;32m    155\u001B[0m   \u001B[38;5;28;01mdel\u001B[39;00m filtered_tb\n",
      "File \u001B[0;32m~/.local/lib/python3.8/site-packages/tensorflow/python/framework/ops.py:1969\u001B[0m, in \u001B[0;36m_create_c_op\u001B[0;34m(graph, node_def, inputs, control_inputs, op_def, extract_traceback)\u001B[0m\n\u001B[1;32m   1966\u001B[0m   c_op \u001B[38;5;241m=\u001B[39m pywrap_tf_session\u001B[38;5;241m.\u001B[39mTF_FinishOperation(op_desc)\n\u001B[1;32m   1967\u001B[0m \u001B[38;5;28;01mexcept\u001B[39;00m errors\u001B[38;5;241m.\u001B[39mInvalidArgumentError \u001B[38;5;28;01mas\u001B[39;00m e:\n\u001B[1;32m   1968\u001B[0m   \u001B[38;5;66;03m# Convert to ValueError for backwards compatibility.\u001B[39;00m\n\u001B[0;32m-> 1969\u001B[0m   \u001B[38;5;28;01mraise\u001B[39;00m \u001B[38;5;167;01mValueError\u001B[39;00m(e\u001B[38;5;241m.\u001B[39mmessage)\n\u001B[1;32m   1971\u001B[0m \u001B[38;5;66;03m# Record the current Python stack trace as the creating stacktrace of this\u001B[39;00m\n\u001B[1;32m   1972\u001B[0m \u001B[38;5;66;03m# TF_Operation.\u001B[39;00m\n\u001B[1;32m   1973\u001B[0m \u001B[38;5;28;01mif\u001B[39;00m extract_traceback:\n",
      "\u001B[0;31mValueError\u001B[0m: Index out of range using input dim 1; input has only 1 dims for '{{node strided_slice_29}} = StridedSlice[Index=DT_INT32, T=DT_FLOAT, begin_mask=1, ellipsis_mask=0, end_mask=1, new_axis_mask=0, shrink_axis_mask=2](Placeholder, strided_slice_29/stack, strided_slice_29/stack_1, strided_slice_29/stack_2)' with input shapes: [8], [2], [2], [2] and with computed input tensors: input[3] = <1 1>."
     ]
    }
   ],
   "source": [
    "X_dot_pred = tf.stack([-(c[0]*1e3)/(theta*1e4)*(X[:,0]-X[:,-2])-(c[1]*1e3)(theta*1e4)*(X[:,0]-X[:,1])-(d[0]*1e5)/(theta*1e4)*X[:,3],\n",
    "            -(c[1]*1e3)/(theta*1e4)*(X[:,1]-X[:,0])-(c[2]*1e3)/(theta*1e4)*(X[:,1]-X[:,2])-(d[1]*1e5)/(theta*1e4)*X[:,4],\n",
    "            -(c[2]*1e3)/(theta*1e4)*(X[:,2]-X[:,1])-(c[3]*1e3)/(theta*1e4)*(X[:,2]-X[:,-1])-(d[2]*1e5)/(theta*1e4)*X[:,5],\n",
    "            1/(tau*1e2)*(U[:,0] - X[:,-2]),\n",
    "            1/(tau*1e2)*(U[:,1] - X[:,-1])])"
   ],
   "metadata": {
    "collapsed": false
   }
  },
  {
   "cell_type": "code",
   "execution_count": 8,
   "outputs": [
    {
     "data": {
      "text/plain": "TensorShape([5])"
     },
     "execution_count": 8,
     "metadata": {},
     "output_type": "execute_result"
    }
   ],
   "source": [
    "X_dot_pred.shape"
   ],
   "metadata": {
    "collapsed": false
   }
  },
  {
   "cell_type": "code",
   "execution_count": 9,
   "outputs": [],
   "source": [
    "cost = tf.reduce_sum(tf.pow(X_dot_pred-X_dot, 2)) / (3 * rows)\n",
    "optimizer = tf.compat.v1.train.GradientDescentOptimizer(learning_rate).minimize(cost)\n",
    "init = tf.compat.v1.global_variables_initializer()"
   ],
   "metadata": {
    "collapsed": false
   }
  },
  {
   "cell_type": "code",
   "execution_count": 10,
   "outputs": [
    {
     "name": "stderr",
     "output_type": "stream",
     "text": [
      "2022-10-09 14:50:08.109729: I tensorflow/stream_executor/cuda/cuda_gpu_executor.cc:980] successful NUMA node read from SysFS had negative value (-1), but there must be at least one NUMA node, so returning NUMA node zero\n",
      "2022-10-09 14:50:08.171373: I tensorflow/stream_executor/cuda/cuda_gpu_executor.cc:980] successful NUMA node read from SysFS had negative value (-1), but there must be at least one NUMA node, so returning NUMA node zero\n",
      "2022-10-09 14:50:08.171540: I tensorflow/stream_executor/cuda/cuda_gpu_executor.cc:980] successful NUMA node read from SysFS had negative value (-1), but there must be at least one NUMA node, so returning NUMA node zero\n",
      "2022-10-09 14:50:08.172098: I tensorflow/core/platform/cpu_feature_guard.cc:193] This TensorFlow binary is optimized with oneAPI Deep Neural Network Library (oneDNN) to use the following CPU instructions in performance-critical operations:  AVX2 FMA\n",
      "To enable them in other operations, rebuild TensorFlow with the appropriate compiler flags.\n",
      "2022-10-09 14:50:08.172758: I tensorflow/stream_executor/cuda/cuda_gpu_executor.cc:980] successful NUMA node read from SysFS had negative value (-1), but there must be at least one NUMA node, so returning NUMA node zero\n",
      "2022-10-09 14:50:08.172911: I tensorflow/stream_executor/cuda/cuda_gpu_executor.cc:980] successful NUMA node read from SysFS had negative value (-1), but there must be at least one NUMA node, so returning NUMA node zero\n",
      "2022-10-09 14:50:08.173038: I tensorflow/stream_executor/cuda/cuda_gpu_executor.cc:980] successful NUMA node read from SysFS had negative value (-1), but there must be at least one NUMA node, so returning NUMA node zero\n",
      "2022-10-09 14:50:08.689018: I tensorflow/stream_executor/cuda/cuda_gpu_executor.cc:980] successful NUMA node read from SysFS had negative value (-1), but there must be at least one NUMA node, so returning NUMA node zero\n",
      "2022-10-09 14:50:08.689260: I tensorflow/stream_executor/cuda/cuda_gpu_executor.cc:980] successful NUMA node read from SysFS had negative value (-1), but there must be at least one NUMA node, so returning NUMA node zero\n",
      "2022-10-09 14:50:08.689394: I tensorflow/stream_executor/cuda/cuda_gpu_executor.cc:980] successful NUMA node read from SysFS had negative value (-1), but there must be at least one NUMA node, so returning NUMA node zero\n",
      "2022-10-09 14:50:08.689490: I tensorflow/core/common_runtime/gpu/gpu_device.cc:1616] Created device /job:localhost/replica:0/task:0/device:GPU:0 with 9530 MB memory:  -> device: 0, name: NVIDIA GeForce RTX 2060, pci bus id: 0000:01:00.0, compute capability: 7.5\n",
      "2022-10-09 14:50:08.692790: I tensorflow/compiler/mlir/mlir_graph_optimization_pass.cc:354] MLIR V1 optimization pass is not enabled\n"
     ]
    },
    {
     "name": "stdout",
     "output_type": "stream",
     "text": [
      "Epoch 1 : cost = 0.108094156 c = [ 44839.64     1021.0829 565446.1    460839.03  ] d = [  -580424.7  -2444220.  -90200368. ] theta = 5392405400000.0 tau = 0.0021114366\n",
      "Epoch 2 : cost = 0.108094156 c = [ 44839.64     1021.0829 565446.1    460839.03  ] d = [  -580424.7  -2444220.  -90200368. ] theta = 5392405400000.0 tau = 0.17783669\n",
      "Epoch 3 : cost = 0.108094156 c = [ 44839.64     1021.0829 565446.1    460839.03  ] d = [  -580424.7  -2444220.  -90200368. ] theta = 5392405400000.0 tau = 0.17783529\n",
      "Epoch 4 : cost = 0.108094156 c = [ 44839.64     1021.0829 565446.1    460839.03  ] d = [  -580424.7  -2444220.  -90200368. ] theta = 5392405400000.0 tau = 0.17783388\n",
      "Epoch 5 : cost = 0.108094156 c = [ 44839.64     1021.0829 565446.1    460839.03  ] d = [  -580424.7  -2444220.  -90200368. ] theta = 5392405400000.0 tau = 0.17783248\n",
      "Epoch 6 : cost = 0.108094156 c = [ 44839.64     1021.0829 565446.1    460839.03  ] d = [  -580424.7  -2444220.  -90200368. ] theta = 5392405400000.0 tau = 0.17783108\n",
      "Epoch 7 : cost = 0.108094156 c = [ 44839.64     1021.0829 565446.1    460839.03  ] d = [  -580424.7  -2444220.  -90200368. ] theta = 5392405400000.0 tau = 0.17782968\n",
      "Epoch 8 : cost = 0.108094156 c = [ 44839.64     1021.0829 565446.1    460839.03  ] d = [  -580424.7  -2444220.  -90200368. ] theta = 5392405400000.0 tau = 0.17782828\n",
      "Epoch 9 : cost = 0.108094156 c = [ 44839.64     1021.0829 565446.1    460839.03  ] d = [  -580424.7  -2444220.  -90200368. ] theta = 5392405400000.0 tau = 0.17782688\n",
      "Epoch 10 : cost = 0.108094156 c = [ 44839.64     1021.0829 565446.1    460839.03  ] d = [  -580424.7  -2444220.  -90200368. ] theta = 5392405400000.0 tau = 0.17782548\n",
      "Epoch 11 : cost = 0.108094156 c = [ 44839.64     1021.0829 565446.1    460839.03  ] d = [  -580424.7  -2444220.  -90200368. ] theta = 5392405400000.0 tau = 0.17782408\n",
      "Epoch 12 : cost = 0.108094156 c = [ 44839.64     1021.0829 565446.1    460839.03  ] d = [  -580424.7  -2444220.  -90200368. ] theta = 5392405400000.0 tau = 0.17782268\n",
      "Epoch 13 : cost = 0.108094156 c = [ 44839.64     1021.0829 565446.1    460839.03  ] d = [  -580424.7  -2444220.  -90200368. ] theta = 5392405400000.0 tau = 0.17782128\n",
      "Epoch 14 : cost = 0.108094156 c = [ 44839.64     1021.0829 565446.1    460839.03  ] d = [  -580424.7  -2444220.  -90200368. ] theta = 5392405400000.0 tau = 0.17781988\n",
      "Epoch 15 : cost = 0.108094156 c = [ 44839.64     1021.0829 565446.1    460839.03  ] d = [  -580424.7  -2444220.  -90200368. ] theta = 5392405400000.0 tau = 0.17781848\n",
      "Epoch 16 : cost = 0.108094156 c = [ 44839.64     1021.0829 565446.1    460839.03  ] d = [  -580424.7  -2444220.  -90200368. ] theta = 5392405400000.0 tau = 0.17781708\n",
      "Epoch 17 : cost = 0.108094156 c = [ 44839.64     1021.0829 565446.1    460839.03  ] d = [  -580424.7  -2444220.  -90200368. ] theta = 5392405400000.0 tau = 0.17781568\n",
      "Epoch 18 : cost = 0.108094156 c = [ 44839.64     1021.0829 565446.1    460839.03  ] d = [  -580424.7  -2444220.  -90200368. ] theta = 5392405400000.0 tau = 0.17781428\n",
      "Epoch 19 : cost = 0.108094156 c = [ 44839.64     1021.0829 565446.1    460839.03  ] d = [  -580424.7  -2444220.  -90200368. ] theta = 5392405400000.0 tau = 0.17781287\n",
      "Epoch 20 : cost = 0.108094156 c = [ 44839.64     1021.0829 565446.1    460839.03  ] d = [  -580424.7  -2444220.  -90200368. ] theta = 5392405400000.0 tau = 0.17781147\n",
      "Epoch 21 : cost = 0.108094156 c = [ 44839.64     1021.0829 565446.1    460839.03  ] d = [  -580424.7  -2444220.  -90200368. ] theta = 5392405400000.0 tau = 0.17781007\n",
      "Epoch 22 : cost = 0.108094156 c = [ 44839.64     1021.0829 565446.1    460839.03  ] d = [  -580424.7  -2444220.  -90200368. ] theta = 5392405400000.0 tau = 0.17780867\n",
      "Epoch 23 : cost = 0.108094156 c = [ 44839.64     1021.0829 565446.1    460839.03  ] d = [  -580424.7  -2444220.  -90200368. ] theta = 5392405400000.0 tau = 0.17780727\n",
      "Epoch 24 : cost = 0.108094156 c = [ 44839.64     1021.0829 565446.1    460839.03  ] d = [  -580424.7  -2444220.  -90200368. ] theta = 5392405400000.0 tau = 0.17780587\n",
      "Epoch 25 : cost = 0.108094156 c = [ 44839.64     1021.0829 565446.1    460839.03  ] d = [  -580424.7  -2444220.  -90200368. ] theta = 5392405400000.0 tau = 0.17780447\n",
      "Epoch 26 : cost = 0.108094156 c = [ 44839.64     1021.0829 565446.1    460839.03  ] d = [  -580424.7  -2444220.  -90200368. ] theta = 5392405400000.0 tau = 0.17780307\n",
      "Epoch 27 : cost = 0.108094156 c = [ 44839.64     1021.0829 565446.1    460839.03  ] d = [  -580424.7  -2444220.  -90200368. ] theta = 5392405400000.0 tau = 0.17780167\n",
      "Epoch 28 : cost = 0.108094156 c = [ 44839.64     1021.0829 565446.1    460839.03  ] d = [  -580424.7  -2444220.  -90200368. ] theta = 5392405400000.0 tau = 0.17780027\n",
      "Epoch 29 : cost = 0.108094156 c = [ 44839.64     1021.0829 565446.1    460839.03  ] d = [  -580424.7  -2444220.  -90200368. ] theta = 5392405400000.0 tau = 0.17779887\n",
      "Epoch 30 : cost = 0.108094156 c = [ 44839.64     1021.0829 565446.1    460839.03  ] d = [  -580424.7  -2444220.  -90200368. ] theta = 5392405400000.0 tau = 0.17779747\n",
      "Epoch 31 : cost = 0.108094156 c = [ 44839.64     1021.0829 565446.1    460839.03  ] d = [  -580424.7  -2444220.  -90200368. ] theta = 5392405400000.0 tau = 0.17779607\n",
      "Epoch 32 : cost = 0.108094156 c = [ 44839.64     1021.0829 565446.1    460839.03  ] d = [  -580424.7  -2444220.  -90200368. ] theta = 5392405400000.0 tau = 0.17779467\n",
      "Epoch 33 : cost = 0.108094156 c = [ 44839.64     1021.0829 565446.1    460839.03  ] d = [  -580424.7  -2444220.  -90200368. ] theta = 5392405400000.0 tau = 0.17779326\n",
      "Epoch 34 : cost = 0.108094156 c = [ 44839.64     1021.0829 565446.1    460839.03  ] d = [  -580424.7  -2444220.  -90200368. ] theta = 5392405400000.0 tau = 0.17779186\n",
      "Epoch 35 : cost = 0.108094156 c = [ 44839.64     1021.0829 565446.1    460839.03  ] d = [  -580424.7  -2444220.  -90200368. ] theta = 5392405400000.0 tau = 0.17779046\n",
      "Epoch 36 : cost = 0.108094156 c = [ 44839.64     1021.0829 565446.1    460839.03  ] d = [  -580424.7  -2444220.  -90200368. ] theta = 5392405400000.0 tau = 0.17778906\n",
      "Epoch 37 : cost = 0.108094156 c = [ 44839.64     1021.0829 565446.1    460839.03  ] d = [  -580424.7  -2444220.  -90200368. ] theta = 5392405400000.0 tau = 0.17778766\n",
      "Epoch 38 : cost = 0.108094156 c = [ 44839.64     1021.0829 565446.1    460839.03  ] d = [  -580424.7  -2444220.  -90200368. ] theta = 5392405400000.0 tau = 0.17778626\n",
      "Epoch 39 : cost = 0.108094156 c = [ 44839.64     1021.0829 565446.1    460839.03  ] d = [  -580424.7  -2444220.  -90200368. ] theta = 5392405400000.0 tau = 0.17778486\n",
      "Epoch 40 : cost = 0.108094156 c = [ 44839.64     1021.0829 565446.1    460839.03  ] d = [  -580424.7  -2444220.  -90200368. ] theta = 5392405400000.0 tau = 0.17778346\n"
     ]
    },
    {
     "ename": "KeyboardInterrupt",
     "evalue": "",
     "output_type": "error",
     "traceback": [
      "\u001B[0;31m---------------------------------------------------------------------------\u001B[0m",
      "\u001B[0;31mKeyboardInterrupt\u001B[0m                         Traceback (most recent call last)",
      "Cell \u001B[0;32mIn [10], line 6\u001B[0m\n\u001B[1;32m      3\u001B[0m \u001B[38;5;28;01mfor\u001B[39;00m epoch \u001B[38;5;129;01min\u001B[39;00m \u001B[38;5;28mrange\u001B[39m(training_epochs):\n\u001B[1;32m      4\u001B[0m     \u001B[38;5;66;03m#sess.run(optimizer, feed_dict = {X : x_data, U : u_data,X_dot:x_dot_data})\u001B[39;00m\n\u001B[1;32m      5\u001B[0m     \u001B[38;5;28;01mfor\u001B[39;00m (_x, _u,_x_dot) \u001B[38;5;129;01min\u001B[39;00m \u001B[38;5;28mzip\u001B[39m(x_data, u_data,x_dot_data):\n\u001B[0;32m----> 6\u001B[0m         \u001B[43msess\u001B[49m\u001B[38;5;241;43m.\u001B[39;49m\u001B[43mrun\u001B[49m\u001B[43m(\u001B[49m\u001B[43moptimizer\u001B[49m\u001B[43m,\u001B[49m\u001B[43m \u001B[49m\u001B[43mfeed_dict\u001B[49m\u001B[43m \u001B[49m\u001B[38;5;241;43m=\u001B[39;49m\u001B[43m \u001B[49m\u001B[43m{\u001B[49m\u001B[43mX\u001B[49m\u001B[43m \u001B[49m\u001B[43m:\u001B[49m\u001B[43m \u001B[49m\u001B[43m_x\u001B[49m\u001B[43m,\u001B[49m\u001B[43m \u001B[49m\u001B[43mU\u001B[49m\u001B[43m \u001B[49m\u001B[43m:\u001B[49m\u001B[43m \u001B[49m\u001B[43m_u\u001B[49m\u001B[43m,\u001B[49m\u001B[43mX_dot\u001B[49m\u001B[43m:\u001B[49m\u001B[43m_x_dot\u001B[49m\u001B[43m}\u001B[49m\u001B[43m)\u001B[49m\n\u001B[1;32m      7\u001B[0m     co \u001B[38;5;241m=\u001B[39m sess\u001B[38;5;241m.\u001B[39mrun(cost, feed_dict \u001B[38;5;241m=\u001B[39m {X : _x, U : _u,X_dot:_x_dot})\n\u001B[1;32m      8\u001B[0m     \u001B[38;5;28mprint\u001B[39m(\u001B[38;5;124m\"\u001B[39m\u001B[38;5;124mEpoch\u001B[39m\u001B[38;5;124m\"\u001B[39m, (epoch \u001B[38;5;241m+\u001B[39m \u001B[38;5;241m1\u001B[39m), \u001B[38;5;124m\"\u001B[39m\u001B[38;5;124m: cost =\u001B[39m\u001B[38;5;124m\"\u001B[39m, co, \u001B[38;5;124m\"\u001B[39m\u001B[38;5;124mc =\u001B[39m\u001B[38;5;124m\"\u001B[39m, sess\u001B[38;5;241m.\u001B[39mrun(c), \u001B[38;5;124m\"\u001B[39m\u001B[38;5;124md =\u001B[39m\u001B[38;5;124m\"\u001B[39m, sess\u001B[38;5;241m.\u001B[39mrun(d), \u001B[38;5;124m\"\u001B[39m\u001B[38;5;124mtheta =\u001B[39m\u001B[38;5;124m\"\u001B[39m, sess\u001B[38;5;241m.\u001B[39mrun(theta), \u001B[38;5;124m\"\u001B[39m\u001B[38;5;124mtau =\u001B[39m\u001B[38;5;124m\"\u001B[39m, sess\u001B[38;5;241m.\u001B[39mrun(tau))\n",
      "File \u001B[0;32m~/.local/lib/python3.8/site-packages/tensorflow/python/client/session.py:968\u001B[0m, in \u001B[0;36mBaseSession.run\u001B[0;34m(self, fetches, feed_dict, options, run_metadata)\u001B[0m\n\u001B[1;32m    965\u001B[0m run_metadata_ptr \u001B[38;5;241m=\u001B[39m tf_session\u001B[38;5;241m.\u001B[39mTF_NewBuffer() \u001B[38;5;28;01mif\u001B[39;00m run_metadata \u001B[38;5;28;01melse\u001B[39;00m \u001B[38;5;28;01mNone\u001B[39;00m\n\u001B[1;32m    967\u001B[0m \u001B[38;5;28;01mtry\u001B[39;00m:\n\u001B[0;32m--> 968\u001B[0m   result \u001B[38;5;241m=\u001B[39m \u001B[38;5;28;43mself\u001B[39;49m\u001B[38;5;241;43m.\u001B[39;49m\u001B[43m_run\u001B[49m\u001B[43m(\u001B[49m\u001B[38;5;28;43;01mNone\u001B[39;49;00m\u001B[43m,\u001B[49m\u001B[43m \u001B[49m\u001B[43mfetches\u001B[49m\u001B[43m,\u001B[49m\u001B[43m \u001B[49m\u001B[43mfeed_dict\u001B[49m\u001B[43m,\u001B[49m\u001B[43m \u001B[49m\u001B[43moptions_ptr\u001B[49m\u001B[43m,\u001B[49m\n\u001B[1;32m    969\u001B[0m \u001B[43m                     \u001B[49m\u001B[43mrun_metadata_ptr\u001B[49m\u001B[43m)\u001B[49m\n\u001B[1;32m    970\u001B[0m   \u001B[38;5;28;01mif\u001B[39;00m run_metadata:\n\u001B[1;32m    971\u001B[0m     proto_data \u001B[38;5;241m=\u001B[39m tf_session\u001B[38;5;241m.\u001B[39mTF_GetBuffer(run_metadata_ptr)\n",
      "File \u001B[0;32m~/.local/lib/python3.8/site-packages/tensorflow/python/client/session.py:1191\u001B[0m, in \u001B[0;36mBaseSession._run\u001B[0;34m(self, handle, fetches, feed_dict, options, run_metadata)\u001B[0m\n\u001B[1;32m   1188\u001B[0m \u001B[38;5;66;03m# We only want to really perform the run if fetches or targets are provided,\u001B[39;00m\n\u001B[1;32m   1189\u001B[0m \u001B[38;5;66;03m# or if the call is a partial run that specifies feeds.\u001B[39;00m\n\u001B[1;32m   1190\u001B[0m \u001B[38;5;28;01mif\u001B[39;00m final_fetches \u001B[38;5;129;01mor\u001B[39;00m final_targets \u001B[38;5;129;01mor\u001B[39;00m (handle \u001B[38;5;129;01mand\u001B[39;00m feed_dict_tensor):\n\u001B[0;32m-> 1191\u001B[0m   results \u001B[38;5;241m=\u001B[39m \u001B[38;5;28;43mself\u001B[39;49m\u001B[38;5;241;43m.\u001B[39;49m\u001B[43m_do_run\u001B[49m\u001B[43m(\u001B[49m\u001B[43mhandle\u001B[49m\u001B[43m,\u001B[49m\u001B[43m \u001B[49m\u001B[43mfinal_targets\u001B[49m\u001B[43m,\u001B[49m\u001B[43m \u001B[49m\u001B[43mfinal_fetches\u001B[49m\u001B[43m,\u001B[49m\n\u001B[1;32m   1192\u001B[0m \u001B[43m                         \u001B[49m\u001B[43mfeed_dict_tensor\u001B[49m\u001B[43m,\u001B[49m\u001B[43m \u001B[49m\u001B[43moptions\u001B[49m\u001B[43m,\u001B[49m\u001B[43m \u001B[49m\u001B[43mrun_metadata\u001B[49m\u001B[43m)\u001B[49m\n\u001B[1;32m   1193\u001B[0m \u001B[38;5;28;01melse\u001B[39;00m:\n\u001B[1;32m   1194\u001B[0m   results \u001B[38;5;241m=\u001B[39m []\n",
      "File \u001B[0;32m~/.local/lib/python3.8/site-packages/tensorflow/python/client/session.py:1371\u001B[0m, in \u001B[0;36mBaseSession._do_run\u001B[0;34m(self, handle, target_list, fetch_list, feed_dict, options, run_metadata)\u001B[0m\n\u001B[1;32m   1368\u001B[0m   \u001B[38;5;28;01mreturn\u001B[39;00m \u001B[38;5;28mself\u001B[39m\u001B[38;5;241m.\u001B[39m_call_tf_sessionprun(handle, feed_dict, fetch_list)\n\u001B[1;32m   1370\u001B[0m \u001B[38;5;28;01mif\u001B[39;00m handle \u001B[38;5;129;01mis\u001B[39;00m \u001B[38;5;28;01mNone\u001B[39;00m:\n\u001B[0;32m-> 1371\u001B[0m   \u001B[38;5;28;01mreturn\u001B[39;00m \u001B[38;5;28;43mself\u001B[39;49m\u001B[38;5;241;43m.\u001B[39;49m\u001B[43m_do_call\u001B[49m\u001B[43m(\u001B[49m\u001B[43m_run_fn\u001B[49m\u001B[43m,\u001B[49m\u001B[43m \u001B[49m\u001B[43mfeeds\u001B[49m\u001B[43m,\u001B[49m\u001B[43m \u001B[49m\u001B[43mfetches\u001B[49m\u001B[43m,\u001B[49m\u001B[43m \u001B[49m\u001B[43mtargets\u001B[49m\u001B[43m,\u001B[49m\u001B[43m \u001B[49m\u001B[43moptions\u001B[49m\u001B[43m,\u001B[49m\n\u001B[1;32m   1372\u001B[0m \u001B[43m                       \u001B[49m\u001B[43mrun_metadata\u001B[49m\u001B[43m)\u001B[49m\n\u001B[1;32m   1373\u001B[0m \u001B[38;5;28;01melse\u001B[39;00m:\n\u001B[1;32m   1374\u001B[0m   \u001B[38;5;28;01mreturn\u001B[39;00m \u001B[38;5;28mself\u001B[39m\u001B[38;5;241m.\u001B[39m_do_call(_prun_fn, handle, feeds, fetches)\n",
      "File \u001B[0;32m~/.local/lib/python3.8/site-packages/tensorflow/python/client/session.py:1378\u001B[0m, in \u001B[0;36mBaseSession._do_call\u001B[0;34m(self, fn, *args)\u001B[0m\n\u001B[1;32m   1376\u001B[0m \u001B[38;5;28;01mdef\u001B[39;00m \u001B[38;5;21m_do_call\u001B[39m(\u001B[38;5;28mself\u001B[39m, fn, \u001B[38;5;241m*\u001B[39margs):\n\u001B[1;32m   1377\u001B[0m   \u001B[38;5;28;01mtry\u001B[39;00m:\n\u001B[0;32m-> 1378\u001B[0m     \u001B[38;5;28;01mreturn\u001B[39;00m \u001B[43mfn\u001B[49m\u001B[43m(\u001B[49m\u001B[38;5;241;43m*\u001B[39;49m\u001B[43margs\u001B[49m\u001B[43m)\u001B[49m\n\u001B[1;32m   1379\u001B[0m   \u001B[38;5;28;01mexcept\u001B[39;00m errors\u001B[38;5;241m.\u001B[39mOpError \u001B[38;5;28;01mas\u001B[39;00m e:\n\u001B[1;32m   1380\u001B[0m     message \u001B[38;5;241m=\u001B[39m compat\u001B[38;5;241m.\u001B[39mas_text(e\u001B[38;5;241m.\u001B[39mmessage)\n",
      "File \u001B[0;32m~/.local/lib/python3.8/site-packages/tensorflow/python/client/session.py:1361\u001B[0m, in \u001B[0;36mBaseSession._do_run.<locals>._run_fn\u001B[0;34m(feed_dict, fetch_list, target_list, options, run_metadata)\u001B[0m\n\u001B[1;32m   1358\u001B[0m \u001B[38;5;28;01mdef\u001B[39;00m \u001B[38;5;21m_run_fn\u001B[39m(feed_dict, fetch_list, target_list, options, run_metadata):\n\u001B[1;32m   1359\u001B[0m   \u001B[38;5;66;03m# Ensure any changes to the graph are reflected in the runtime.\u001B[39;00m\n\u001B[1;32m   1360\u001B[0m   \u001B[38;5;28mself\u001B[39m\u001B[38;5;241m.\u001B[39m_extend_graph()\n\u001B[0;32m-> 1361\u001B[0m   \u001B[38;5;28;01mreturn\u001B[39;00m \u001B[38;5;28;43mself\u001B[39;49m\u001B[38;5;241;43m.\u001B[39;49m\u001B[43m_call_tf_sessionrun\u001B[49m\u001B[43m(\u001B[49m\u001B[43moptions\u001B[49m\u001B[43m,\u001B[49m\u001B[43m \u001B[49m\u001B[43mfeed_dict\u001B[49m\u001B[43m,\u001B[49m\u001B[43m \u001B[49m\u001B[43mfetch_list\u001B[49m\u001B[43m,\u001B[49m\n\u001B[1;32m   1362\u001B[0m \u001B[43m                                  \u001B[49m\u001B[43mtarget_list\u001B[49m\u001B[43m,\u001B[49m\u001B[43m \u001B[49m\u001B[43mrun_metadata\u001B[49m\u001B[43m)\u001B[49m\n",
      "File \u001B[0;32m~/.local/lib/python3.8/site-packages/tensorflow/python/client/session.py:1454\u001B[0m, in \u001B[0;36mBaseSession._call_tf_sessionrun\u001B[0;34m(self, options, feed_dict, fetch_list, target_list, run_metadata)\u001B[0m\n\u001B[1;32m   1452\u001B[0m \u001B[38;5;28;01mdef\u001B[39;00m \u001B[38;5;21m_call_tf_sessionrun\u001B[39m(\u001B[38;5;28mself\u001B[39m, options, feed_dict, fetch_list, target_list,\n\u001B[1;32m   1453\u001B[0m                         run_metadata):\n\u001B[0;32m-> 1454\u001B[0m   \u001B[38;5;28;01mreturn\u001B[39;00m \u001B[43mtf_session\u001B[49m\u001B[38;5;241;43m.\u001B[39;49m\u001B[43mTF_SessionRun_wrapper\u001B[49m\u001B[43m(\u001B[49m\u001B[38;5;28;43mself\u001B[39;49m\u001B[38;5;241;43m.\u001B[39;49m\u001B[43m_session\u001B[49m\u001B[43m,\u001B[49m\u001B[43m \u001B[49m\u001B[43moptions\u001B[49m\u001B[43m,\u001B[49m\u001B[43m \u001B[49m\u001B[43mfeed_dict\u001B[49m\u001B[43m,\u001B[49m\n\u001B[1;32m   1455\u001B[0m \u001B[43m                                          \u001B[49m\u001B[43mfetch_list\u001B[49m\u001B[43m,\u001B[49m\u001B[43m \u001B[49m\u001B[43mtarget_list\u001B[49m\u001B[43m,\u001B[49m\n\u001B[1;32m   1456\u001B[0m \u001B[43m                                          \u001B[49m\u001B[43mrun_metadata\u001B[49m\u001B[43m)\u001B[49m\n",
      "\u001B[0;31mKeyboardInterrupt\u001B[0m: "
     ]
    }
   ],
   "source": [
    "with tf.compat.v1.Session() as sess:\n",
    "    sess.run(init)\n",
    "    for epoch in range(training_epochs):\n",
    "        #sess.run(optimizer, feed_dict = {X : x_data, U : u_data,X_dot:x_dot_data})\n",
    "        for (_x, _u,_x_dot) in zip(x_data, u_data,x_dot_data):\n",
    "            sess.run(optimizer, feed_dict = {X : _x, U : _u,X_dot:_x_dot})\n",
    "        co = sess.run(cost, feed_dict = {X : _x, U : _u,X_dot:_x_dot})\n",
    "        print(\"Epoch\", (epoch + 1), \": cost =\", co, \"c =\", sess.run(c), \"d =\", sess.run(d), \"theta =\", sess.run(theta), \"tau =\", sess.run(tau))\n",
    "\n",
    "    #training_cost = sess.run(cost, feed_dict = {X : _x, U : _u,X_dot:_x_dot})\n"
   ],
   "metadata": {
    "collapsed": false
   }
  }
 ],
 "metadata": {
  "kernelspec": {
   "display_name": "Python 3",
   "language": "python",
   "name": "python3"
  },
  "language_info": {
   "codemirror_mode": {
    "name": "ipython",
    "version": 2
   },
   "file_extension": ".py",
   "mimetype": "text/x-python",
   "name": "python",
   "nbconvert_exporter": "python",
   "pygments_lexer": "ipython2",
   "version": "2.7.6"
  }
 },
 "nbformat": 4,
 "nbformat_minor": 0
}
