{
 "cells": [
  {
   "cell_type": "code",
   "execution_count": 5,
   "metadata": {
    "collapsed": true
   },
   "outputs": [],
   "source": [
    "import tensorflow as tf\n",
    "physical_devices = tf.config.list_physical_devices('GPU')\n",
    "tf.config.experimental.set_memory_growth(physical_devices[0], True)\n",
    "\n",
    "import gpflow\n",
    "import numpy as np\n",
    "import matplotlib"
   ]
  },
  {
   "cell_type": "code",
   "execution_count": 14,
   "metadata": {
    "collapsed": false
   },
   "outputs": [],
   "source": [
    "N = 20 # number of control intervals\n",
    "nd = N+1\n",
    "\n",
    "np.random.seed(0)\n",
    "data = np.random.normal(loc=0.5,scale=1,size=(N,nd))\n",
    "value = np.random.random((N,1))\n",
    "\n",
    "model = gpflow.models.GPR((data, value),\n",
    "                          kernel=gpflow.kernels.Constant(nd) + gpflow.kernels.Linear(nd) + gpflow.kernels.White(\n",
    "                              nd) + gpflow.kernels.RBF(nd))"
   ]
  },
  {
   "cell_type": "code",
   "execution_count": 17,
   "metadata": {
    "collapsed": false
   },
   "outputs": [
    {
     "name": "stdout",
     "output_type": "stream",
     "text": [
      "RUNNING THE L-BFGS-B CODE\n",
      "\n",
      "           * * *\n",
      "\n",
      "Machine precision = 2.220D-16\n",
      " N =            6     M =           10\n",
      "\n",
      "At X0         0 variables are exactly at the bounds\n",
      "\n",
      "At iterate    0    f=  7.62243D+01    |proj g|=  3.52727D-01\n",
      "\n",
      "At iterate    1    f=  4.81547D+01    |proj g|=  5.66746D-01\n",
      "\n",
      "At iterate    2    f=  8.44335D+00    |proj g|=  2.43778D-01\n",
      "\n",
      "At iterate    3    f=  8.42926D+00    |proj g|=  3.00261D-02\n",
      "\n",
      "At iterate    4    f=  8.41856D+00    |proj g|=  8.24382D-02\n",
      "\n",
      "At iterate    5    f=  8.33556D+00    |proj g|=  4.30272D-01\n",
      "\n",
      "At iterate    6    f=  7.34509D+00    |proj g|=  1.65640D+00\n",
      "  ys=-9.816E-01  -gs= 3.438E-01 BFGS update SKIPPED\n",
      "\n",
      "At iterate    7    f=  7.32284D+00    |proj g|=  1.69713D+00\n",
      "\n",
      "At iterate    8    f=  6.92285D+00    |proj g|=  5.04491D-01\n",
      "\n",
      "At iterate    9    f=  6.90081D+00    |proj g|=  1.27849D-01\n",
      "\n",
      "At iterate   10    f=  6.89933D+00    |proj g|=  2.03271D-02\n",
      "\n",
      "At iterate   11    f=  6.89927D+00    |proj g|=  1.13108D-03\n",
      "\n",
      "At iterate   12    f=  6.89927D+00    |proj g|=  1.01176D-03\n",
      "\n",
      "At iterate   13    f=  6.89927D+00    |proj g|=  4.64126D-05\n",
      "\n",
      "At iterate   14    f=  6.89927D+00    |proj g|=  1.77231D-06\n",
      "\n",
      "           * * *\n",
      "\n",
      "Tit   = total number of iterations\n",
      "Tnf   = total number of function evaluations\n",
      "Tnint = total number of segments explored during Cauchy searches\n",
      "Skip  = number of BFGS updates skipped\n"
     ]
    },
    {
     "name": "stderr",
     "output_type": "stream",
     "text": [
      "2022-10-10 13:16:31.625364: I tensorflow/core/util/cuda_solvers.cc:179] Creating GpuSolver handles for stream 0x6708620\n",
      " This problem is unconstrained.\n"
     ]
    },
    {
     "data": {
      "text/plain": [
       "      fun: 6.899269452164365\n",
       " hess_inv: <6x6 LbfgsInvHessProduct with dtype=float64>\n",
       "      jac: array([-5.16891435e-07, -1.02909435e-73, -1.77231109e-06,  0.00000000e+00,\n",
       "       -4.58011288e-07, -3.00968506e-13])\n",
       "  message: 'CONVERGENCE: NORM_OF_PROJECTED_GRADIENT_<=_PGTOL'\n",
       "     nfev: 43\n",
       "      nit: 14\n",
       "     njev: 43\n",
       "   status: 0\n",
       "  success: True\n",
       "        x: array([  -1.11901679, -173.20205981,   -2.5389472 ,   -1.3475331 ,\n",
       "         -3.94899007,  -18.20347965])"
      ]
     },
     "execution_count": 17,
     "metadata": {},
     "output_type": "execute_result"
    },
    {
     "name": "stdout",
     "output_type": "stream",
     "text": [
      "Nact  = number of active bounds at final generalized Cauchy point\n",
      "Projg = norm of the final projected gradient\n",
      "F     = final function value\n",
      "\n",
      "           * * *\n",
      "\n",
      "   N    Tit     Tnf  Tnint  Skip  Nact     Projg        F\n",
      "    6     14     44      1     1     0   1.772D-06   6.899D+00\n",
      "  F =   6.8992694521643649     \n",
      "\n",
      "CONVERGENCE: NORM_OF_PROJECTED_GRADIENT_<=_PGTOL            \n"
     ]
    }
   ],
   "source": [
    "optimizer = gpflow.optimizers.Scipy()\n",
    "optimizer.minimize(\n",
    "    model.training_loss,\n",
    "    variables=model.trainable_variables,\n",
    "    options=dict(disp=True, maxiter=100),\n",
    ")"
   ]
  }
 ],
 "metadata": {
  "kernelspec": {
   "display_name": "Python 3.8.10 64-bit",
   "language": "python",
   "name": "python3"
  },
  "language_info": {
   "codemirror_mode": {
    "name": "ipython",
    "version": 2
   },
   "file_extension": ".py",
   "mimetype": "text/x-python",
   "name": "python",
   "nbconvert_exporter": "python",
   "pygments_lexer": "ipython2",
   "version": "3.8.10"
  },
  "vscode": {
   "interpreter": {
    "hash": "916dbcbb3f70747c44a77c7bcd40155683ae19c65e1c03b4aa3499c5328201f1"
   }
  }
 },
 "nbformat": 4,
 "nbformat_minor": 0
}
