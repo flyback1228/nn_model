{
 "cells": [
  {
   "cell_type": "code",
   "execution_count": 2,
   "metadata": {
    "collapsed": true
   },
   "outputs": [],
   "source": [
    "import jax\n",
    "import jax.numpy as jnp"
   ]
  },
  {
   "cell_type": "code",
   "execution_count": 5,
   "metadata": {},
   "outputs": [
    {
     "name": "stdout",
     "output_type": "stream",
     "text": [
      "[DeviceArray([1, 2], dtype=int32), DeviceArray([2, 2], dtype=int32)]\n",
      "[1 2] [2 2]\n"
     ]
    }
   ],
   "source": [
    "a = jnp.array([1,2])\n",
    "b = jnp.array([2,2])\n",
    "c=[a,b]\n",
    "print(c)\n",
    "print(*c)"
   ]
  },
  {
   "cell_type": "code",
   "execution_count": 22,
   "metadata": {},
   "outputs": [
    {
     "name": "stdout",
     "output_type": "stream",
     "text": [
      "[[[ 0.        0.        0.      ]\n",
      "  [ 0.        0.        0.      ]\n",
      "  [ 0.        0.        0.      ]\n",
      "  [-2.52441   0.        0.540302]]\n",
      "\n",
      " [[ 0.        0.        0.      ]\n",
      "  [ 0.        0.        0.      ]\n",
      "  [ 0.        8.        0.      ]\n",
      "  [ 0.        0.        0.      ]]\n",
      "\n",
      " [[ 0.        0.        0.      ]\n",
      "  [ 0.        0.        0.      ]\n",
      "  [ 0.        0.        0.      ]\n",
      "  [ 0.540302  0.        0.      ]]]\n"
     ]
    }
   ],
   "source": [
    "import numpy as np\n",
    "a=np.array(\n",
    "[[[0, 0, 0], \n",
    " [0, 0, 0], \n",
    " [0, 0, 0]], \n",
    " [[0, 0, 0], \n",
    " [0, 0, 0], \n",
    " [0, 0, 0]], \n",
    " [[0, 0, 0], \n",
    " [0, 8, 0], \n",
    " [0, 0, 0]], \n",
    " [[-2.52441, 0, 0.540302], \n",
    " [0, 0, 0], \n",
    " [0.540302, 0, 0]]]\n",
    ")\n",
    "\n",
    "print(a.transpose((2,0,1)))\n"
   ]
  },
  {
   "cell_type": "code",
   "execution_count": 24,
   "metadata": {},
   "outputs": [
    {
     "name": "stdout",
     "output_type": "stream",
     "text": [
      "[[[1 2]\n",
      "  [4 4]]]\n",
      "[[1 2]\n",
      " [4 4]]\n"
     ]
    }
   ],
   "source": [
    "p = np.array([[[1,2],[4,4]]])\n",
    "print(p)\n",
    "print(p.squeeze())"
   ]
  }
 ],
 "metadata": {
  "kernelspec": {
   "display_name": "Python 3.8.10 64-bit",
   "language": "python",
   "name": "python3"
  },
  "language_info": {
   "codemirror_mode": {
    "name": "ipython",
    "version": 3
   },
   "file_extension": ".py",
   "mimetype": "text/x-python",
   "name": "python",
   "nbconvert_exporter": "python",
   "pygments_lexer": "ipython3",
   "version": "3.8.10"
  },
  "vscode": {
   "interpreter": {
    "hash": "916dbcbb3f70747c44a77c7bcd40155683ae19c65e1c03b4aa3499c5328201f1"
   }
  }
 },
 "nbformat": 4,
 "nbformat_minor": 0
}
