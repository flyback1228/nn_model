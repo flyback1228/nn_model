{
 "cells": [
  {
   "cell_type": "code",
   "execution_count": 2,
   "metadata": {
    "collapsed": true
   },
   "outputs": [],
   "source": [
    "import jax\n",
    "import jax.numpy as jnp"
   ]
  },
  {
   "cell_type": "code",
   "execution_count": 5,
   "metadata": {},
   "outputs": [
    {
     "name": "stdout",
     "output_type": "stream",
     "text": [
      "[DeviceArray([1, 2], dtype=int32), DeviceArray([2, 2], dtype=int32)]\n",
      "[1 2] [2 2]\n"
     ]
    }
   ],
   "source": [
    "a = jnp.array([1,2])\n",
    "b = jnp.array([2,2])\n",
    "c=[a,b]\n",
    "print(c)\n",
    "print(*c)"
   ]
  },
  {
   "cell_type": "code",
   "execution_count": 22,
   "metadata": {},
   "outputs": [
    {
     "name": "stdout",
     "output_type": "stream",
     "text": [
      "[[[ 0.        0.        0.      ]\n",
      "  [ 0.        0.        0.      ]\n",
      "  [ 0.        0.        0.      ]\n",
      "  [-2.52441   0.        0.540302]]\n",
      "\n",
      " [[ 0.        0.        0.      ]\n",
      "  [ 0.        0.        0.      ]\n",
      "  [ 0.        8.        0.      ]\n",
      "  [ 0.        0.        0.      ]]\n",
      "\n",
      " [[ 0.        0.        0.      ]\n",
      "  [ 0.        0.        0.      ]\n",
      "  [ 0.        0.        0.      ]\n",
      "  [ 0.540302  0.        0.      ]]]\n"
     ]
    }
   ],
   "source": [
    "import numpy as np\n",
    "a=np.array(\n",
    "[[[0, 0, 0], \n",
    " [0, 0, 0], \n",
    " [0, 0, 0]], \n",
    " [[0, 0, 0], \n",
    " [0, 0, 0], \n",
    " [0, 0, 0]], \n",
    " [[0, 0, 0], \n",
    " [0, 8, 0], \n",
    " [0, 0, 0]], \n",
    " [[-2.52441, 0, 0.540302], \n",
    " [0, 0, 0], \n",
    " [0.540302, 0, 0]]]\n",
    ")\n",
    "\n",
    "print(a.transpose((2,0,1)))\n"
   ]
  },
  {
   "cell_type": "code",
   "execution_count": 69,
   "metadata": {},
   "outputs": [],
   "source": [
    "from jax import grad, jacfwd\n",
    "\n",
    "\n",
    "def f1(x,y):\n",
    "    return jnp.asarray([x[0]*y[0], 5*x[2], x[2] * jnp.sin(x[0])])\n",
    "def f2(x,y):\n",
    "    return jnp.asarray([x[1]*y[1], 5*x[2], 4*x[1]**2 - 2*x[2], x[2] * jnp.cos(x[0])])\n",
    "def g(f):    \n",
    "    return lambda *xs: (print(xs),jnp.hstack(jax.jacfwd(f,argnums=[i for i in range(len(xs))])(*xs)))\n"
   ]
  },
  {
   "cell_type": "code",
   "execution_count": 70,
   "metadata": {},
   "outputs": [
    {
     "name": "stdout",
     "output_type": "stream",
     "text": [
      "[0, 1, 2]\n",
      "[[2.        0.        0.        0.       ]\n",
      " [0.        0.        5.        0.       ]\n",
      " [1.6209068 0.        0.841471  0.       ]]\n",
      "[[2.        0.        0.        0.        1.        0.       ]\n",
      " [0.        0.        5.        0.        0.        0.       ]\n",
      " [1.6209068 0.        0.841471  0.        0.        0.       ]]\n",
      "(DeviceArray([1., 2., 3., 4.], dtype=float32), DeviceArray([2., 4.], dtype=float32))\n"
     ]
    },
    {
     "data": {
      "text/plain": [
       "(None,\n",
       " DeviceArray([[2.       , 0.       , 0.       , 0.       , 1.       ,\n",
       "               0.       ],\n",
       "              [0.       , 0.       , 5.       , 0.       , 0.       ,\n",
       "               0.       ],\n",
       "              [1.6209068, 0.       , 0.841471 , 0.       , 0.       ,\n",
       "               0.       ]], dtype=float32))"
      ]
     },
     "execution_count": 70,
     "metadata": {},
     "output_type": "execute_result"
    }
   ],
   "source": [
    "from numpy import float32\n",
    "a= [i for i in range(3)]\n",
    "print(a)\n",
    "\n",
    "print(jax.jacobian(f1)(jnp.asarray([1,2,3,4],dtype=float32),jnp.asarray([2,4],dtype=float32)))\n",
    "print(jnp.hstack(jax.jacfwd(f1,argnums=[0,1])(jnp.asarray([1,2,3,4],dtype=float32),jnp.asarray([2,4],dtype=float32))))\n",
    "\n",
    "xs = [jnp.asarray([1,2,3,4],dtype=float32),jnp.asarray([2,4],dtype=float32)]\n",
    "g(f1)(*xs)\n",
    "\n"
   ]
  },
  {
   "cell_type": "code",
   "execution_count": 72,
   "metadata": {},
   "outputs": [
    {
     "name": "stdout",
     "output_type": "stream",
     "text": [
      "[[1 2]\n",
      " [3 4]]\n",
      "[1 2 3 4]\n",
      "[1, 2] [2, 3]\n"
     ]
    }
   ],
   "source": [
    "a = jnp.asarray([[1,2],[3,4]])\n",
    "print(a)\n",
    "a=jnp.reshape(a,(-1,))\n",
    "print(a)\n",
    "a=[1,2]\n",
    "b=[2,3]\n",
    "arg=[a,b]\n",
    "print(*arg)"
   ]
  }
 ],
 "metadata": {
  "kernelspec": {
   "display_name": "Python 3.8.10 64-bit",
   "language": "python",
   "name": "python3"
  },
  "language_info": {
   "codemirror_mode": {
    "name": "ipython",
    "version": 3
   },
   "file_extension": ".py",
   "mimetype": "text/x-python",
   "name": "python",
   "nbconvert_exporter": "python",
   "pygments_lexer": "ipython3",
   "version": "3.8.10"
  },
  "vscode": {
   "interpreter": {
    "hash": "916dbcbb3f70747c44a77c7bcd40155683ae19c65e1c03b4aa3499c5328201f1"
   }
  }
 },
 "nbformat": 4,
 "nbformat_minor": 0
}
